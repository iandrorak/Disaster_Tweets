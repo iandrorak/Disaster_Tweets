{
  "cells": [
    {
      "cell_type": "markdown",
      "source": [
        "# Disaster Tweets"
      ],
      "metadata": {
        "id": "EMvtlIqZIQO8"
      },
      "id": "EMvtlIqZIQO8"
    },
    {
      "cell_type": "markdown",
      "source": [
        "## Imports"
      ],
      "metadata": {
        "id": "e_be7HcH5it2"
      },
      "id": "e_be7HcH5it2"
    },
    {
      "cell_type": "code",
      "source": [
        "!python -m spacy download en_core_web_md -q"
      ],
      "metadata": {
        "colab": {
          "base_uri": "https://localhost:8080/"
        },
        "id": "d7DH1rat31to",
        "outputId": "b4cb5b13-fa1b-41a5-d1b2-728f3cb5731d"
      },
      "id": "d7DH1rat31to",
      "execution_count": 1,
      "outputs": [
        {
          "output_type": "stream",
          "name": "stdout",
          "text": [
            "2022-09-17 14:29:48.306216: E tensorflow/stream_executor/cuda/cuda_driver.cc:271] failed call to cuInit: CUDA_ERROR_NO_DEVICE: no CUDA-capable device is detected\n",
            "\u001b[K     |████████████████████████████████| 42.8 MB 44.2 MB/s \n",
            "\u001b[?25h\u001b[38;5;2m✔ Download and installation successful\u001b[0m\n",
            "You can now load the package via spacy.load('en_core_web_md')\n"
          ]
        }
      ]
    },
    {
      "cell_type": "code",
      "execution_count": 2,
      "id": "3b428ad8-63d1-4a29-8525-59215f08cd7f",
      "metadata": {
        "id": "3b428ad8-63d1-4a29-8525-59215f08cd7f"
      },
      "outputs": [],
      "source": [
        "import tensorflow as tf \n",
        "from tensorflow.keras.models import Sequential\n",
        "from tensorflow.keras.optimizers import Adam\n",
        "from tensorflow.keras.losses import BinaryCrossentropy\n",
        "from tensorflow.keras.metrics import BinaryAccuracy\n",
        "from tensorflow.keras.layers import Dense, Embedding, GlobalAveragePooling1D, GRU, LSTM\n",
        "from tensorflow import keras\n",
        "\n",
        "import pathlib \n",
        "import pandas as pd \n",
        "import numpy as np\n",
        "import matplotlib.pyplot as plt\n",
        "import os\n",
        "import io\n",
        "import warnings\n",
        "from sklearn.model_selection import train_test_split\n",
        "warnings.filterwarnings('ignore')\n",
        "\n",
        "# Import Spacy and english initialisation\n",
        "import en_core_web_md\n",
        "# Import Stop words \n",
        "from spacy.lang.en.stop_words import STOP_WORDS"
      ]
    },
    {
      "cell_type": "code",
      "source": [
        "nlp = en_core_web_md.load()"
      ],
      "metadata": {
        "id": "z2ComTGCQ7p2"
      },
      "id": "z2ComTGCQ7p2",
      "execution_count": 3,
      "outputs": []
    },
    {
      "cell_type": "code",
      "execution_count": 4,
      "id": "0e732434-f79b-4ab6-8fa0-c93cd421b1a9",
      "metadata": {
        "id": "0e732434-f79b-4ab6-8fa0-c93cd421b1a9"
      },
      "outputs": [],
      "source": [
        "data = pd.read_csv('src/train.csv')"
      ]
    },
    {
      "cell_type": "code",
      "source": [
        "data.head()"
      ],
      "metadata": {
        "colab": {
          "base_uri": "https://localhost:8080/",
          "height": 206
        },
        "id": "6gNhRd6ULnna",
        "outputId": "edd47a5d-3f2d-4daa-a0b7-abaacc472f0a"
      },
      "id": "6gNhRd6ULnna",
      "execution_count": 5,
      "outputs": [
        {
          "output_type": "execute_result",
          "data": {
            "text/plain": [
              "   id keyword location                                               text  \\\n",
              "0   1     NaN      NaN  Our Deeds are the Reason of this #earthquake M...   \n",
              "1   4     NaN      NaN             Forest fire near La Ronge Sask. Canada   \n",
              "2   5     NaN      NaN  All residents asked to 'shelter in place' are ...   \n",
              "3   6     NaN      NaN  13,000 people receive #wildfires evacuation or...   \n",
              "4   7     NaN      NaN  Just got sent this photo from Ruby #Alaska as ...   \n",
              "\n",
              "   target  \n",
              "0       1  \n",
              "1       1  \n",
              "2       1  \n",
              "3       1  \n",
              "4       1  "
            ],
            "text/html": [
              "\n",
              "  <div id=\"df-7079fa0b-59ca-4f0f-b3af-07b217fcb4b2\">\n",
              "    <div class=\"colab-df-container\">\n",
              "      <div>\n",
              "<style scoped>\n",
              "    .dataframe tbody tr th:only-of-type {\n",
              "        vertical-align: middle;\n",
              "    }\n",
              "\n",
              "    .dataframe tbody tr th {\n",
              "        vertical-align: top;\n",
              "    }\n",
              "\n",
              "    .dataframe thead th {\n",
              "        text-align: right;\n",
              "    }\n",
              "</style>\n",
              "<table border=\"1\" class=\"dataframe\">\n",
              "  <thead>\n",
              "    <tr style=\"text-align: right;\">\n",
              "      <th></th>\n",
              "      <th>id</th>\n",
              "      <th>keyword</th>\n",
              "      <th>location</th>\n",
              "      <th>text</th>\n",
              "      <th>target</th>\n",
              "    </tr>\n",
              "  </thead>\n",
              "  <tbody>\n",
              "    <tr>\n",
              "      <th>0</th>\n",
              "      <td>1</td>\n",
              "      <td>NaN</td>\n",
              "      <td>NaN</td>\n",
              "      <td>Our Deeds are the Reason of this #earthquake M...</td>\n",
              "      <td>1</td>\n",
              "    </tr>\n",
              "    <tr>\n",
              "      <th>1</th>\n",
              "      <td>4</td>\n",
              "      <td>NaN</td>\n",
              "      <td>NaN</td>\n",
              "      <td>Forest fire near La Ronge Sask. Canada</td>\n",
              "      <td>1</td>\n",
              "    </tr>\n",
              "    <tr>\n",
              "      <th>2</th>\n",
              "      <td>5</td>\n",
              "      <td>NaN</td>\n",
              "      <td>NaN</td>\n",
              "      <td>All residents asked to 'shelter in place' are ...</td>\n",
              "      <td>1</td>\n",
              "    </tr>\n",
              "    <tr>\n",
              "      <th>3</th>\n",
              "      <td>6</td>\n",
              "      <td>NaN</td>\n",
              "      <td>NaN</td>\n",
              "      <td>13,000 people receive #wildfires evacuation or...</td>\n",
              "      <td>1</td>\n",
              "    </tr>\n",
              "    <tr>\n",
              "      <th>4</th>\n",
              "      <td>7</td>\n",
              "      <td>NaN</td>\n",
              "      <td>NaN</td>\n",
              "      <td>Just got sent this photo from Ruby #Alaska as ...</td>\n",
              "      <td>1</td>\n",
              "    </tr>\n",
              "  </tbody>\n",
              "</table>\n",
              "</div>\n",
              "      <button class=\"colab-df-convert\" onclick=\"convertToInteractive('df-7079fa0b-59ca-4f0f-b3af-07b217fcb4b2')\"\n",
              "              title=\"Convert this dataframe to an interactive table.\"\n",
              "              style=\"display:none;\">\n",
              "        \n",
              "  <svg xmlns=\"http://www.w3.org/2000/svg\" height=\"24px\"viewBox=\"0 0 24 24\"\n",
              "       width=\"24px\">\n",
              "    <path d=\"M0 0h24v24H0V0z\" fill=\"none\"/>\n",
              "    <path d=\"M18.56 5.44l.94 2.06.94-2.06 2.06-.94-2.06-.94-.94-2.06-.94 2.06-2.06.94zm-11 1L8.5 8.5l.94-2.06 2.06-.94-2.06-.94L8.5 2.5l-.94 2.06-2.06.94zm10 10l.94 2.06.94-2.06 2.06-.94-2.06-.94-.94-2.06-.94 2.06-2.06.94z\"/><path d=\"M17.41 7.96l-1.37-1.37c-.4-.4-.92-.59-1.43-.59-.52 0-1.04.2-1.43.59L10.3 9.45l-7.72 7.72c-.78.78-.78 2.05 0 2.83L4 21.41c.39.39.9.59 1.41.59.51 0 1.02-.2 1.41-.59l7.78-7.78 2.81-2.81c.8-.78.8-2.07 0-2.86zM5.41 20L4 18.59l7.72-7.72 1.47 1.35L5.41 20z\"/>\n",
              "  </svg>\n",
              "      </button>\n",
              "      \n",
              "  <style>\n",
              "    .colab-df-container {\n",
              "      display:flex;\n",
              "      flex-wrap:wrap;\n",
              "      gap: 12px;\n",
              "    }\n",
              "\n",
              "    .colab-df-convert {\n",
              "      background-color: #E8F0FE;\n",
              "      border: none;\n",
              "      border-radius: 50%;\n",
              "      cursor: pointer;\n",
              "      display: none;\n",
              "      fill: #1967D2;\n",
              "      height: 32px;\n",
              "      padding: 0 0 0 0;\n",
              "      width: 32px;\n",
              "    }\n",
              "\n",
              "    .colab-df-convert:hover {\n",
              "      background-color: #E2EBFA;\n",
              "      box-shadow: 0px 1px 2px rgba(60, 64, 67, 0.3), 0px 1px 3px 1px rgba(60, 64, 67, 0.15);\n",
              "      fill: #174EA6;\n",
              "    }\n",
              "\n",
              "    [theme=dark] .colab-df-convert {\n",
              "      background-color: #3B4455;\n",
              "      fill: #D2E3FC;\n",
              "    }\n",
              "\n",
              "    [theme=dark] .colab-df-convert:hover {\n",
              "      background-color: #434B5C;\n",
              "      box-shadow: 0px 1px 3px 1px rgba(0, 0, 0, 0.15);\n",
              "      filter: drop-shadow(0px 1px 2px rgba(0, 0, 0, 0.3));\n",
              "      fill: #FFFFFF;\n",
              "    }\n",
              "  </style>\n",
              "\n",
              "      <script>\n",
              "        const buttonEl =\n",
              "          document.querySelector('#df-7079fa0b-59ca-4f0f-b3af-07b217fcb4b2 button.colab-df-convert');\n",
              "        buttonEl.style.display =\n",
              "          google.colab.kernel.accessAllowed ? 'block' : 'none';\n",
              "\n",
              "        async function convertToInteractive(key) {\n",
              "          const element = document.querySelector('#df-7079fa0b-59ca-4f0f-b3af-07b217fcb4b2');\n",
              "          const dataTable =\n",
              "            await google.colab.kernel.invokeFunction('convertToInteractive',\n",
              "                                                     [key], {});\n",
              "          if (!dataTable) return;\n",
              "\n",
              "          const docLinkHtml = 'Like what you see? Visit the ' +\n",
              "            '<a target=\"_blank\" href=https://colab.research.google.com/notebooks/data_table.ipynb>data table notebook</a>'\n",
              "            + ' to learn more about interactive tables.';\n",
              "          element.innerHTML = '';\n",
              "          dataTable['output_type'] = 'display_data';\n",
              "          await google.colab.output.renderOutput(dataTable, element);\n",
              "          const docLink = document.createElement('div');\n",
              "          docLink.innerHTML = docLinkHtml;\n",
              "          element.appendChild(docLink);\n",
              "        }\n",
              "      </script>\n",
              "    </div>\n",
              "  </div>\n",
              "  "
            ]
          },
          "metadata": {},
          "execution_count": 5
        }
      ]
    },
    {
      "cell_type": "markdown",
      "source": [
        "## Preprocessing"
      ],
      "metadata": {
        "id": "vt1dWtuP5pMd"
      },
      "id": "vt1dWtuP5pMd"
    },
    {
      "cell_type": "markdown",
      "source": [
        "### Text cleaning on train"
      ],
      "metadata": {
        "id": "wNTkjYUA66SM"
      },
      "id": "wNTkjYUA66SM"
    },
    {
      "cell_type": "code",
      "source": [
        "data[\"text_clean\"] = data[\"text\"].apply(lambda x:''.join(ch for ch in x if ch.isalnum() or ch==\" \" or ch==\"'\"))\n",
        "data[\"text_clean\"] = data[\"text_clean\"].apply(lambda x: x.replace(\" +\",\" \").lower().strip())\n",
        "data[\"text_clean\"] = data[\"text_clean\"].apply(lambda x: \" \".join([token.lemma_ for token in nlp(x) if (token.lemma_ not in STOP_WORDS) and (token.text not in STOP_WORDS)]))\n",
        "\n",
        "data"
      ],
      "metadata": {
        "colab": {
          "base_uri": "https://localhost:8080/",
          "height": 424
        },
        "id": "MDJixuuOMVho",
        "outputId": "9a6057e6-2a39-4af8-a92f-2f007e04bfd0"
      },
      "id": "MDJixuuOMVho",
      "execution_count": 6,
      "outputs": [
        {
          "output_type": "execute_result",
          "data": {
            "text/plain": [
              "         id keyword location  \\\n",
              "0         1     NaN      NaN   \n",
              "1         4     NaN      NaN   \n",
              "2         5     NaN      NaN   \n",
              "3         6     NaN      NaN   \n",
              "4         7     NaN      NaN   \n",
              "...     ...     ...      ...   \n",
              "7608  10869     NaN      NaN   \n",
              "7609  10870     NaN      NaN   \n",
              "7610  10871     NaN      NaN   \n",
              "7611  10872     NaN      NaN   \n",
              "7612  10873     NaN      NaN   \n",
              "\n",
              "                                                   text  target  \\\n",
              "0     Our Deeds are the Reason of this #earthquake M...       1   \n",
              "1                Forest fire near La Ronge Sask. Canada       1   \n",
              "2     All residents asked to 'shelter in place' are ...       1   \n",
              "3     13,000 people receive #wildfires evacuation or...       1   \n",
              "4     Just got sent this photo from Ruby #Alaska as ...       1   \n",
              "...                                                 ...     ...   \n",
              "7608  Two giant cranes holding a bridge collapse int...       1   \n",
              "7609  @aria_ahrary @TheTawniest The out of control w...       1   \n",
              "7610  M1.94 [01:04 UTC]?5km S of Volcano Hawaii. htt...       1   \n",
              "7611  Police investigating after an e-bike collided ...       1   \n",
              "7612  The Latest: More Homes Razed by Northern Calif...       1   \n",
              "\n",
              "                                             text_clean  \n",
              "0                  deed reason earthquake allah forgive  \n",
              "1                 forest fire near la ronge sask canada  \n",
              "2     resident ask ' shelter place ' notify officer ...  \n",
              "3     13000 people receive wildfire evacuation order...  \n",
              "4     got send photo ruby alaska smoke wildfire pour...  \n",
              "...                                                 ...  \n",
              "7608  giant crane hold bridge collapse nearby home h...  \n",
              "7609  ariaahrary thetawniest control wild fire calif...  \n",
              "7610  m194 0104 utc5 km s volcano hawaii httptcozdto...  \n",
              "7611  police investigate ebike collide car little po...  \n",
              "7612  late home raze northern california wildfire   ...  \n",
              "\n",
              "[7613 rows x 6 columns]"
            ],
            "text/html": [
              "\n",
              "  <div id=\"df-6b2465f7-9e64-4a2a-9cc8-af9153357689\">\n",
              "    <div class=\"colab-df-container\">\n",
              "      <div>\n",
              "<style scoped>\n",
              "    .dataframe tbody tr th:only-of-type {\n",
              "        vertical-align: middle;\n",
              "    }\n",
              "\n",
              "    .dataframe tbody tr th {\n",
              "        vertical-align: top;\n",
              "    }\n",
              "\n",
              "    .dataframe thead th {\n",
              "        text-align: right;\n",
              "    }\n",
              "</style>\n",
              "<table border=\"1\" class=\"dataframe\">\n",
              "  <thead>\n",
              "    <tr style=\"text-align: right;\">\n",
              "      <th></th>\n",
              "      <th>id</th>\n",
              "      <th>keyword</th>\n",
              "      <th>location</th>\n",
              "      <th>text</th>\n",
              "      <th>target</th>\n",
              "      <th>text_clean</th>\n",
              "    </tr>\n",
              "  </thead>\n",
              "  <tbody>\n",
              "    <tr>\n",
              "      <th>0</th>\n",
              "      <td>1</td>\n",
              "      <td>NaN</td>\n",
              "      <td>NaN</td>\n",
              "      <td>Our Deeds are the Reason of this #earthquake M...</td>\n",
              "      <td>1</td>\n",
              "      <td>deed reason earthquake allah forgive</td>\n",
              "    </tr>\n",
              "    <tr>\n",
              "      <th>1</th>\n",
              "      <td>4</td>\n",
              "      <td>NaN</td>\n",
              "      <td>NaN</td>\n",
              "      <td>Forest fire near La Ronge Sask. Canada</td>\n",
              "      <td>1</td>\n",
              "      <td>forest fire near la ronge sask canada</td>\n",
              "    </tr>\n",
              "    <tr>\n",
              "      <th>2</th>\n",
              "      <td>5</td>\n",
              "      <td>NaN</td>\n",
              "      <td>NaN</td>\n",
              "      <td>All residents asked to 'shelter in place' are ...</td>\n",
              "      <td>1</td>\n",
              "      <td>resident ask ' shelter place ' notify officer ...</td>\n",
              "    </tr>\n",
              "    <tr>\n",
              "      <th>3</th>\n",
              "      <td>6</td>\n",
              "      <td>NaN</td>\n",
              "      <td>NaN</td>\n",
              "      <td>13,000 people receive #wildfires evacuation or...</td>\n",
              "      <td>1</td>\n",
              "      <td>13000 people receive wildfire evacuation order...</td>\n",
              "    </tr>\n",
              "    <tr>\n",
              "      <th>4</th>\n",
              "      <td>7</td>\n",
              "      <td>NaN</td>\n",
              "      <td>NaN</td>\n",
              "      <td>Just got sent this photo from Ruby #Alaska as ...</td>\n",
              "      <td>1</td>\n",
              "      <td>got send photo ruby alaska smoke wildfire pour...</td>\n",
              "    </tr>\n",
              "    <tr>\n",
              "      <th>...</th>\n",
              "      <td>...</td>\n",
              "      <td>...</td>\n",
              "      <td>...</td>\n",
              "      <td>...</td>\n",
              "      <td>...</td>\n",
              "      <td>...</td>\n",
              "    </tr>\n",
              "    <tr>\n",
              "      <th>7608</th>\n",
              "      <td>10869</td>\n",
              "      <td>NaN</td>\n",
              "      <td>NaN</td>\n",
              "      <td>Two giant cranes holding a bridge collapse int...</td>\n",
              "      <td>1</td>\n",
              "      <td>giant crane hold bridge collapse nearby home h...</td>\n",
              "    </tr>\n",
              "    <tr>\n",
              "      <th>7609</th>\n",
              "      <td>10870</td>\n",
              "      <td>NaN</td>\n",
              "      <td>NaN</td>\n",
              "      <td>@aria_ahrary @TheTawniest The out of control w...</td>\n",
              "      <td>1</td>\n",
              "      <td>ariaahrary thetawniest control wild fire calif...</td>\n",
              "    </tr>\n",
              "    <tr>\n",
              "      <th>7610</th>\n",
              "      <td>10871</td>\n",
              "      <td>NaN</td>\n",
              "      <td>NaN</td>\n",
              "      <td>M1.94 [01:04 UTC]?5km S of Volcano Hawaii. htt...</td>\n",
              "      <td>1</td>\n",
              "      <td>m194 0104 utc5 km s volcano hawaii httptcozdto...</td>\n",
              "    </tr>\n",
              "    <tr>\n",
              "      <th>7611</th>\n",
              "      <td>10872</td>\n",
              "      <td>NaN</td>\n",
              "      <td>NaN</td>\n",
              "      <td>Police investigating after an e-bike collided ...</td>\n",
              "      <td>1</td>\n",
              "      <td>police investigate ebike collide car little po...</td>\n",
              "    </tr>\n",
              "    <tr>\n",
              "      <th>7612</th>\n",
              "      <td>10873</td>\n",
              "      <td>NaN</td>\n",
              "      <td>NaN</td>\n",
              "      <td>The Latest: More Homes Razed by Northern Calif...</td>\n",
              "      <td>1</td>\n",
              "      <td>late home raze northern california wildfire   ...</td>\n",
              "    </tr>\n",
              "  </tbody>\n",
              "</table>\n",
              "<p>7613 rows × 6 columns</p>\n",
              "</div>\n",
              "      <button class=\"colab-df-convert\" onclick=\"convertToInteractive('df-6b2465f7-9e64-4a2a-9cc8-af9153357689')\"\n",
              "              title=\"Convert this dataframe to an interactive table.\"\n",
              "              style=\"display:none;\">\n",
              "        \n",
              "  <svg xmlns=\"http://www.w3.org/2000/svg\" height=\"24px\"viewBox=\"0 0 24 24\"\n",
              "       width=\"24px\">\n",
              "    <path d=\"M0 0h24v24H0V0z\" fill=\"none\"/>\n",
              "    <path d=\"M18.56 5.44l.94 2.06.94-2.06 2.06-.94-2.06-.94-.94-2.06-.94 2.06-2.06.94zm-11 1L8.5 8.5l.94-2.06 2.06-.94-2.06-.94L8.5 2.5l-.94 2.06-2.06.94zm10 10l.94 2.06.94-2.06 2.06-.94-2.06-.94-.94-2.06-.94 2.06-2.06.94z\"/><path d=\"M17.41 7.96l-1.37-1.37c-.4-.4-.92-.59-1.43-.59-.52 0-1.04.2-1.43.59L10.3 9.45l-7.72 7.72c-.78.78-.78 2.05 0 2.83L4 21.41c.39.39.9.59 1.41.59.51 0 1.02-.2 1.41-.59l7.78-7.78 2.81-2.81c.8-.78.8-2.07 0-2.86zM5.41 20L4 18.59l7.72-7.72 1.47 1.35L5.41 20z\"/>\n",
              "  </svg>\n",
              "      </button>\n",
              "      \n",
              "  <style>\n",
              "    .colab-df-container {\n",
              "      display:flex;\n",
              "      flex-wrap:wrap;\n",
              "      gap: 12px;\n",
              "    }\n",
              "\n",
              "    .colab-df-convert {\n",
              "      background-color: #E8F0FE;\n",
              "      border: none;\n",
              "      border-radius: 50%;\n",
              "      cursor: pointer;\n",
              "      display: none;\n",
              "      fill: #1967D2;\n",
              "      height: 32px;\n",
              "      padding: 0 0 0 0;\n",
              "      width: 32px;\n",
              "    }\n",
              "\n",
              "    .colab-df-convert:hover {\n",
              "      background-color: #E2EBFA;\n",
              "      box-shadow: 0px 1px 2px rgba(60, 64, 67, 0.3), 0px 1px 3px 1px rgba(60, 64, 67, 0.15);\n",
              "      fill: #174EA6;\n",
              "    }\n",
              "\n",
              "    [theme=dark] .colab-df-convert {\n",
              "      background-color: #3B4455;\n",
              "      fill: #D2E3FC;\n",
              "    }\n",
              "\n",
              "    [theme=dark] .colab-df-convert:hover {\n",
              "      background-color: #434B5C;\n",
              "      box-shadow: 0px 1px 3px 1px rgba(0, 0, 0, 0.15);\n",
              "      filter: drop-shadow(0px 1px 2px rgba(0, 0, 0, 0.3));\n",
              "      fill: #FFFFFF;\n",
              "    }\n",
              "  </style>\n",
              "\n",
              "      <script>\n",
              "        const buttonEl =\n",
              "          document.querySelector('#df-6b2465f7-9e64-4a2a-9cc8-af9153357689 button.colab-df-convert');\n",
              "        buttonEl.style.display =\n",
              "          google.colab.kernel.accessAllowed ? 'block' : 'none';\n",
              "\n",
              "        async function convertToInteractive(key) {\n",
              "          const element = document.querySelector('#df-6b2465f7-9e64-4a2a-9cc8-af9153357689');\n",
              "          const dataTable =\n",
              "            await google.colab.kernel.invokeFunction('convertToInteractive',\n",
              "                                                     [key], {});\n",
              "          if (!dataTable) return;\n",
              "\n",
              "          const docLinkHtml = 'Like what you see? Visit the ' +\n",
              "            '<a target=\"_blank\" href=https://colab.research.google.com/notebooks/data_table.ipynb>data table notebook</a>'\n",
              "            + ' to learn more about interactive tables.';\n",
              "          element.innerHTML = '';\n",
              "          dataTable['output_type'] = 'display_data';\n",
              "          await google.colab.output.renderOutput(dataTable, element);\n",
              "          const docLink = document.createElement('div');\n",
              "          docLink.innerHTML = docLinkHtml;\n",
              "          element.appendChild(docLink);\n",
              "        }\n",
              "      </script>\n",
              "    </div>\n",
              "  </div>\n",
              "  "
            ]
          },
          "metadata": {},
          "execution_count": 6
        }
      ]
    },
    {
      "cell_type": "markdown",
      "source": [
        "### Encoding text"
      ],
      "metadata": {
        "id": "sI0Tf_1V8VAx"
      },
      "id": "sI0Tf_1V8VAx"
    },
    {
      "cell_type": "code",
      "source": [
        "tokenizer = tf.keras.preprocessing.text.Tokenizer(num_words=3500) # instanciate the tokenizer\n",
        "tokenizer.fit_on_texts(data.text_clean)\n",
        "data[\"text_encoded\"] = tokenizer.texts_to_sequences(data.text_clean)"
      ],
      "metadata": {
        "id": "FrBP0HaGSUlB"
      },
      "id": "FrBP0HaGSUlB",
      "execution_count": 7,
      "outputs": []
    },
    {
      "cell_type": "code",
      "source": [
        "data.head()"
      ],
      "metadata": {
        "colab": {
          "base_uri": "https://localhost:8080/",
          "height": 206
        },
        "id": "PfeScFv36xIu",
        "outputId": "00834e40-0bc8-40d3-be66-2f339d9f5477"
      },
      "id": "PfeScFv36xIu",
      "execution_count": 8,
      "outputs": [
        {
          "output_type": "execute_result",
          "data": {
            "text/plain": [
              "   id keyword location                                               text  \\\n",
              "0   1     NaN      NaN  Our Deeds are the Reason of this #earthquake M...   \n",
              "1   4     NaN      NaN             Forest fire near La Ronge Sask. Canada   \n",
              "2   5     NaN      NaN  All residents asked to 'shelter in place' are ...   \n",
              "3   6     NaN      NaN  13,000 people receive #wildfires evacuation or...   \n",
              "4   7     NaN      NaN  Just got sent this photo from Ruby #Alaska as ...   \n",
              "\n",
              "   target                                         text_clean  \\\n",
              "0       1               deed reason earthquake allah forgive   \n",
              "1       1              forest fire near la ronge sask canada   \n",
              "2       1  resident ask ' shelter place ' notify officer ...   \n",
              "3       1  13000 people receive wildfire evacuation order...   \n",
              "4       1  got send photo ruby alaska smoke wildfire pour...   \n",
              "\n",
              "                                        text_encoded  \n",
              "0                             [414, 171, 1376, 1703]  \n",
              "1                            [118, 3, 165, 509, 953]  \n",
              "2  [1377, 446, 1, 1704, 323, 1, 291, 185, 1704, 3...  \n",
              "3                  [2305, 6, 2306, 67, 185, 356, 33]  \n",
              "4          [268, 177, 122, 1517, 172, 67, 2307, 109]  "
            ],
            "text/html": [
              "\n",
              "  <div id=\"df-0d1edbcf-9957-4884-b93b-cee4a040ccc9\">\n",
              "    <div class=\"colab-df-container\">\n",
              "      <div>\n",
              "<style scoped>\n",
              "    .dataframe tbody tr th:only-of-type {\n",
              "        vertical-align: middle;\n",
              "    }\n",
              "\n",
              "    .dataframe tbody tr th {\n",
              "        vertical-align: top;\n",
              "    }\n",
              "\n",
              "    .dataframe thead th {\n",
              "        text-align: right;\n",
              "    }\n",
              "</style>\n",
              "<table border=\"1\" class=\"dataframe\">\n",
              "  <thead>\n",
              "    <tr style=\"text-align: right;\">\n",
              "      <th></th>\n",
              "      <th>id</th>\n",
              "      <th>keyword</th>\n",
              "      <th>location</th>\n",
              "      <th>text</th>\n",
              "      <th>target</th>\n",
              "      <th>text_clean</th>\n",
              "      <th>text_encoded</th>\n",
              "    </tr>\n",
              "  </thead>\n",
              "  <tbody>\n",
              "    <tr>\n",
              "      <th>0</th>\n",
              "      <td>1</td>\n",
              "      <td>NaN</td>\n",
              "      <td>NaN</td>\n",
              "      <td>Our Deeds are the Reason of this #earthquake M...</td>\n",
              "      <td>1</td>\n",
              "      <td>deed reason earthquake allah forgive</td>\n",
              "      <td>[414, 171, 1376, 1703]</td>\n",
              "    </tr>\n",
              "    <tr>\n",
              "      <th>1</th>\n",
              "      <td>4</td>\n",
              "      <td>NaN</td>\n",
              "      <td>NaN</td>\n",
              "      <td>Forest fire near La Ronge Sask. Canada</td>\n",
              "      <td>1</td>\n",
              "      <td>forest fire near la ronge sask canada</td>\n",
              "      <td>[118, 3, 165, 509, 953]</td>\n",
              "    </tr>\n",
              "    <tr>\n",
              "      <th>2</th>\n",
              "      <td>5</td>\n",
              "      <td>NaN</td>\n",
              "      <td>NaN</td>\n",
              "      <td>All residents asked to 'shelter in place' are ...</td>\n",
              "      <td>1</td>\n",
              "      <td>resident ask ' shelter place ' notify officer ...</td>\n",
              "      <td>[1377, 446, 1, 1704, 323, 1, 291, 185, 1704, 3...</td>\n",
              "    </tr>\n",
              "    <tr>\n",
              "      <th>3</th>\n",
              "      <td>6</td>\n",
              "      <td>NaN</td>\n",
              "      <td>NaN</td>\n",
              "      <td>13,000 people receive #wildfires evacuation or...</td>\n",
              "      <td>1</td>\n",
              "      <td>13000 people receive wildfire evacuation order...</td>\n",
              "      <td>[2305, 6, 2306, 67, 185, 356, 33]</td>\n",
              "    </tr>\n",
              "    <tr>\n",
              "      <th>4</th>\n",
              "      <td>7</td>\n",
              "      <td>NaN</td>\n",
              "      <td>NaN</td>\n",
              "      <td>Just got sent this photo from Ruby #Alaska as ...</td>\n",
              "      <td>1</td>\n",
              "      <td>got send photo ruby alaska smoke wildfire pour...</td>\n",
              "      <td>[268, 177, 122, 1517, 172, 67, 2307, 109]</td>\n",
              "    </tr>\n",
              "  </tbody>\n",
              "</table>\n",
              "</div>\n",
              "      <button class=\"colab-df-convert\" onclick=\"convertToInteractive('df-0d1edbcf-9957-4884-b93b-cee4a040ccc9')\"\n",
              "              title=\"Convert this dataframe to an interactive table.\"\n",
              "              style=\"display:none;\">\n",
              "        \n",
              "  <svg xmlns=\"http://www.w3.org/2000/svg\" height=\"24px\"viewBox=\"0 0 24 24\"\n",
              "       width=\"24px\">\n",
              "    <path d=\"M0 0h24v24H0V0z\" fill=\"none\"/>\n",
              "    <path d=\"M18.56 5.44l.94 2.06.94-2.06 2.06-.94-2.06-.94-.94-2.06-.94 2.06-2.06.94zm-11 1L8.5 8.5l.94-2.06 2.06-.94-2.06-.94L8.5 2.5l-.94 2.06-2.06.94zm10 10l.94 2.06.94-2.06 2.06-.94-2.06-.94-.94-2.06-.94 2.06-2.06.94z\"/><path d=\"M17.41 7.96l-1.37-1.37c-.4-.4-.92-.59-1.43-.59-.52 0-1.04.2-1.43.59L10.3 9.45l-7.72 7.72c-.78.78-.78 2.05 0 2.83L4 21.41c.39.39.9.59 1.41.59.51 0 1.02-.2 1.41-.59l7.78-7.78 2.81-2.81c.8-.78.8-2.07 0-2.86zM5.41 20L4 18.59l7.72-7.72 1.47 1.35L5.41 20z\"/>\n",
              "  </svg>\n",
              "      </button>\n",
              "      \n",
              "  <style>\n",
              "    .colab-df-container {\n",
              "      display:flex;\n",
              "      flex-wrap:wrap;\n",
              "      gap: 12px;\n",
              "    }\n",
              "\n",
              "    .colab-df-convert {\n",
              "      background-color: #E8F0FE;\n",
              "      border: none;\n",
              "      border-radius: 50%;\n",
              "      cursor: pointer;\n",
              "      display: none;\n",
              "      fill: #1967D2;\n",
              "      height: 32px;\n",
              "      padding: 0 0 0 0;\n",
              "      width: 32px;\n",
              "    }\n",
              "\n",
              "    .colab-df-convert:hover {\n",
              "      background-color: #E2EBFA;\n",
              "      box-shadow: 0px 1px 2px rgba(60, 64, 67, 0.3), 0px 1px 3px 1px rgba(60, 64, 67, 0.15);\n",
              "      fill: #174EA6;\n",
              "    }\n",
              "\n",
              "    [theme=dark] .colab-df-convert {\n",
              "      background-color: #3B4455;\n",
              "      fill: #D2E3FC;\n",
              "    }\n",
              "\n",
              "    [theme=dark] .colab-df-convert:hover {\n",
              "      background-color: #434B5C;\n",
              "      box-shadow: 0px 1px 3px 1px rgba(0, 0, 0, 0.15);\n",
              "      filter: drop-shadow(0px 1px 2px rgba(0, 0, 0, 0.3));\n",
              "      fill: #FFFFFF;\n",
              "    }\n",
              "  </style>\n",
              "\n",
              "      <script>\n",
              "        const buttonEl =\n",
              "          document.querySelector('#df-0d1edbcf-9957-4884-b93b-cee4a040ccc9 button.colab-df-convert');\n",
              "        buttonEl.style.display =\n",
              "          google.colab.kernel.accessAllowed ? 'block' : 'none';\n",
              "\n",
              "        async function convertToInteractive(key) {\n",
              "          const element = document.querySelector('#df-0d1edbcf-9957-4884-b93b-cee4a040ccc9');\n",
              "          const dataTable =\n",
              "            await google.colab.kernel.invokeFunction('convertToInteractive',\n",
              "                                                     [key], {});\n",
              "          if (!dataTable) return;\n",
              "\n",
              "          const docLinkHtml = 'Like what you see? Visit the ' +\n",
              "            '<a target=\"_blank\" href=https://colab.research.google.com/notebooks/data_table.ipynb>data table notebook</a>'\n",
              "            + ' to learn more about interactive tables.';\n",
              "          element.innerHTML = '';\n",
              "          dataTable['output_type'] = 'display_data';\n",
              "          await google.colab.output.renderOutput(dataTable, element);\n",
              "          const docLink = document.createElement('div');\n",
              "          docLink.innerHTML = docLinkHtml;\n",
              "          element.appendChild(docLink);\n",
              "        }\n",
              "      </script>\n",
              "    </div>\n",
              "  </div>\n",
              "  "
            ]
          },
          "metadata": {},
          "execution_count": 8
        }
      ]
    },
    {
      "cell_type": "markdown",
      "source": [
        "### Padding text"
      ],
      "metadata": {
        "id": "ajkXR4Rh60cO"
      },
      "id": "ajkXR4Rh60cO"
    },
    {
      "cell_type": "code",
      "source": [
        "text_pad = tf.keras.preprocessing.sequence.pad_sequences(data.text_encoded, padding=\"post\")"
      ],
      "metadata": {
        "id": "LNznBD7E8uqG"
      },
      "id": "LNznBD7E8uqG",
      "execution_count": 9,
      "outputs": []
    },
    {
      "cell_type": "code",
      "source": [
        "text_pad.shape"
      ],
      "metadata": {
        "colab": {
          "base_uri": "https://localhost:8080/"
        },
        "id": "mxqLAVqc84k6",
        "outputId": "a8f4a904-c294-4cb4-a642-995beaa0e5c7"
      },
      "id": "mxqLAVqc84k6",
      "execution_count": 10,
      "outputs": [
        {
          "output_type": "execute_result",
          "data": {
            "text/plain": [
              "(7613, 21)"
            ]
          },
          "metadata": {},
          "execution_count": 10
        }
      ]
    },
    {
      "cell_type": "markdown",
      "source": [
        "### Train and validation split"
      ],
      "metadata": {
        "id": "Qz_BlRi685_K"
      },
      "id": "Qz_BlRi685_K"
    },
    {
      "cell_type": "code",
      "source": [
        "x_train, x_val, y_train, y_val = train_test_split(text_pad,data.target, test_size=0.3, random_state=42)"
      ],
      "metadata": {
        "id": "rlfjm0tB9K7a"
      },
      "id": "rlfjm0tB9K7a",
      "execution_count": 11,
      "outputs": []
    },
    {
      "cell_type": "code",
      "source": [
        "train = tf.data.Dataset.from_tensor_slices((x_train, y_train))\n",
        "val = tf.data.Dataset.from_tensor_slices((x_val, y_val))"
      ],
      "metadata": {
        "id": "JuUbBI819mnX"
      },
      "id": "JuUbBI819mnX",
      "execution_count": 12,
      "outputs": []
    },
    {
      "cell_type": "code",
      "source": [
        "train_batch = train.shuffle(len(train)).batch(512)\n",
        "val_batch = val.shuffle(len(val)).batch(512)"
      ],
      "metadata": {
        "id": "wsLjb7VT98X5"
      },
      "id": "wsLjb7VT98X5",
      "execution_count": 13,
      "outputs": []
    },
    {
      "cell_type": "markdown",
      "source": [
        "## Model with embedding"
      ],
      "metadata": {
        "id": "EGeP64AZ_aI-"
      },
      "id": "EGeP64AZ_aI-"
    },
    {
      "cell_type": "code",
      "source": [
        "print(tokenizer.num_words)"
      ],
      "metadata": {
        "colab": {
          "base_uri": "https://localhost:8080/"
        },
        "id": "b3EjC7WxE_9a",
        "outputId": "e9877cd2-4666-4e48-e138-06f2ecb5f922"
      },
      "id": "b3EjC7WxE_9a",
      "execution_count": 14,
      "outputs": [
        {
          "output_type": "stream",
          "name": "stdout",
          "text": [
            "3500\n"
          ]
        }
      ]
    },
    {
      "cell_type": "code",
      "source": [
        "vocab_size = tokenizer.num_words\n",
        "embedding_dim=8"
      ],
      "metadata": {
        "id": "3-RheaNYAlNi"
      },
      "id": "3-RheaNYAlNi",
      "execution_count": 15,
      "outputs": []
    },
    {
      "cell_type": "markdown",
      "source": [
        "### Model"
      ],
      "metadata": {
        "id": "xciqbo7BHDwm"
      },
      "id": "xciqbo7BHDwm"
    },
    {
      "cell_type": "code",
      "source": [
        "emb_model = Sequential([\n",
        "  Embedding(vocab_size+1, embedding_dim, name=\"embedding\"), # the embedding layer\n",
        "  # the input dim needs to be equal to the size of the vocabulary + 1 (because of\n",
        "  # the zero padding)\n",
        "  GlobalAveragePooling1D(), # this will pick the average for every word in the sentence\n",
        "  # along each dimension of the representation space.\n",
        "  Dense(16, activation='relu'), # a dense layer\n",
        "  Dense(1, activation=\"sigmoid\") # the prediction layer\n",
        "])\n",
        "\n",
        "emb_model.summary()"
      ],
      "metadata": {
        "colab": {
          "base_uri": "https://localhost:8080/"
        },
        "id": "V1aK9HICAmoF",
        "outputId": "a771890a-10d8-4d79-b0d6-f2d1da04e618"
      },
      "id": "V1aK9HICAmoF",
      "execution_count": 16,
      "outputs": [
        {
          "output_type": "stream",
          "name": "stdout",
          "text": [
            "Model: \"sequential\"\n",
            "_________________________________________________________________\n",
            " Layer (type)                Output Shape              Param #   \n",
            "=================================================================\n",
            " embedding (Embedding)       (None, None, 8)           28008     \n",
            "                                                                 \n",
            " global_average_pooling1d (G  (None, 8)                0         \n",
            " lobalAveragePooling1D)                                          \n",
            "                                                                 \n",
            " dense (Dense)               (None, 16)                144       \n",
            "                                                                 \n",
            " dense_1 (Dense)             (None, 1)                 17        \n",
            "                                                                 \n",
            "=================================================================\n",
            "Total params: 28,169\n",
            "Trainable params: 28,169\n",
            "Non-trainable params: 0\n",
            "_________________________________________________________________\n"
          ]
        }
      ]
    },
    {
      "cell_type": "code",
      "source": [
        "tensorboard_callback = tf.keras.callbacks.TensorBoard(log_dir=\"logs\")"
      ],
      "metadata": {
        "id": "X6jyFA8eEVQA"
      },
      "id": "X6jyFA8eEVQA",
      "execution_count": 17,
      "outputs": []
    },
    {
      "cell_type": "markdown",
      "source": [
        "### Compile"
      ],
      "metadata": {
        "id": "FgefFFwQHG97"
      },
      "id": "FgefFFwQHG97"
    },
    {
      "cell_type": "code",
      "source": [
        "optimizer= tf.keras.optimizers.Adam()\n",
        "\n",
        "emb_model.compile(optimizer=optimizer,\n",
        "              loss=BinaryCrossentropy(),\n",
        "              metrics=[BinaryAccuracy()])"
      ],
      "metadata": {
        "id": "ipLrAuTSHKk7"
      },
      "id": "ipLrAuTSHKk7",
      "execution_count": 18,
      "outputs": []
    },
    {
      "cell_type": "markdown",
      "source": [
        "### Fit on 40 epochs"
      ],
      "metadata": {
        "id": "v46asCWyGumC"
      },
      "id": "v46asCWyGumC"
    },
    {
      "cell_type": "code",
      "source": [
        "history_emb = emb_model.fit(\n",
        "    train_batch,\n",
        "    validation_data=val_batch,\n",
        "    epochs=40,\n",
        "    callbacks=[tensorboard_callback])"
      ],
      "metadata": {
        "colab": {
          "base_uri": "https://localhost:8080/"
        },
        "id": "gCGt3a98GTEO",
        "outputId": "ec28b859-a6a1-44e7-dcca-68263ed92ed8"
      },
      "id": "gCGt3a98GTEO",
      "execution_count": 19,
      "outputs": [
        {
          "output_type": "stream",
          "name": "stdout",
          "text": [
            "Epoch 1/40\n",
            "11/11 [==============================] - 1s 18ms/step - loss: 0.6913 - binary_accuracy: 0.5504 - val_loss: 0.6883 - val_binary_accuracy: 0.5771\n",
            "Epoch 2/40\n",
            "11/11 [==============================] - 0s 7ms/step - loss: 0.6878 - binary_accuracy: 0.5675 - val_loss: 0.6852 - val_binary_accuracy: 0.5771\n",
            "Epoch 3/40\n",
            "11/11 [==============================] - 0s 5ms/step - loss: 0.6848 - binary_accuracy: 0.5675 - val_loss: 0.6821 - val_binary_accuracy: 0.5771\n",
            "Epoch 4/40\n",
            "11/11 [==============================] - 0s 5ms/step - loss: 0.6818 - binary_accuracy: 0.5675 - val_loss: 0.6790 - val_binary_accuracy: 0.5771\n",
            "Epoch 5/40\n",
            "11/11 [==============================] - 0s 8ms/step - loss: 0.6788 - binary_accuracy: 0.5675 - val_loss: 0.6761 - val_binary_accuracy: 0.5771\n",
            "Epoch 6/40\n",
            "11/11 [==============================] - 0s 5ms/step - loss: 0.6761 - binary_accuracy: 0.5675 - val_loss: 0.6730 - val_binary_accuracy: 0.5771\n",
            "Epoch 7/40\n",
            "11/11 [==============================] - 0s 10ms/step - loss: 0.6728 - binary_accuracy: 0.5675 - val_loss: 0.6698 - val_binary_accuracy: 0.5771\n",
            "Epoch 8/40\n",
            "11/11 [==============================] - 0s 6ms/step - loss: 0.6691 - binary_accuracy: 0.5675 - val_loss: 0.6659 - val_binary_accuracy: 0.5771\n",
            "Epoch 9/40\n",
            "11/11 [==============================] - 0s 6ms/step - loss: 0.6645 - binary_accuracy: 0.5675 - val_loss: 0.6614 - val_binary_accuracy: 0.5771\n",
            "Epoch 10/40\n",
            "11/11 [==============================] - 0s 6ms/step - loss: 0.6588 - binary_accuracy: 0.5693 - val_loss: 0.6561 - val_binary_accuracy: 0.5792\n",
            "Epoch 11/40\n",
            "11/11 [==============================] - 0s 6ms/step - loss: 0.6518 - binary_accuracy: 0.5776 - val_loss: 0.6495 - val_binary_accuracy: 0.5941\n",
            "Epoch 12/40\n",
            "11/11 [==============================] - 0s 5ms/step - loss: 0.6436 - binary_accuracy: 0.5990 - val_loss: 0.6419 - val_binary_accuracy: 0.6103\n",
            "Epoch 13/40\n",
            "11/11 [==============================] - 0s 6ms/step - loss: 0.6338 - binary_accuracy: 0.6271 - val_loss: 0.6332 - val_binary_accuracy: 0.6357\n",
            "Epoch 14/40\n",
            "11/11 [==============================] - 0s 7ms/step - loss: 0.6226 - binary_accuracy: 0.6528 - val_loss: 0.6232 - val_binary_accuracy: 0.6585\n",
            "Epoch 15/40\n",
            "11/11 [==============================] - 0s 6ms/step - loss: 0.6100 - binary_accuracy: 0.6703 - val_loss: 0.6119 - val_binary_accuracy: 0.6725\n",
            "Epoch 16/40\n",
            "11/11 [==============================] - 0s 7ms/step - loss: 0.5956 - binary_accuracy: 0.6966 - val_loss: 0.6000 - val_binary_accuracy: 0.7071\n",
            "Epoch 17/40\n",
            "11/11 [==============================] - 0s 6ms/step - loss: 0.5802 - binary_accuracy: 0.7292 - val_loss: 0.5873 - val_binary_accuracy: 0.7259\n",
            "Epoch 18/40\n",
            "11/11 [==============================] - 0s 6ms/step - loss: 0.5637 - binary_accuracy: 0.7452 - val_loss: 0.5738 - val_binary_accuracy: 0.7421\n",
            "Epoch 19/40\n",
            "11/11 [==============================] - 0s 7ms/step - loss: 0.5463 - binary_accuracy: 0.7628 - val_loss: 0.5601 - val_binary_accuracy: 0.7583\n",
            "Epoch 20/40\n",
            "11/11 [==============================] - 0s 5ms/step - loss: 0.5284 - binary_accuracy: 0.7788 - val_loss: 0.5464 - val_binary_accuracy: 0.7715\n",
            "Epoch 21/40\n",
            "11/11 [==============================] - 0s 5ms/step - loss: 0.5103 - binary_accuracy: 0.7975 - val_loss: 0.5334 - val_binary_accuracy: 0.7842\n",
            "Epoch 22/40\n",
            "11/11 [==============================] - 0s 6ms/step - loss: 0.4924 - binary_accuracy: 0.8067 - val_loss: 0.5203 - val_binary_accuracy: 0.7846\n",
            "Epoch 23/40\n",
            "11/11 [==============================] - 0s 5ms/step - loss: 0.4749 - binary_accuracy: 0.8195 - val_loss: 0.5085 - val_binary_accuracy: 0.7960\n",
            "Epoch 24/40\n",
            "11/11 [==============================] - 0s 6ms/step - loss: 0.4579 - binary_accuracy: 0.8249 - val_loss: 0.4974 - val_binary_accuracy: 0.7942\n",
            "Epoch 25/40\n",
            "11/11 [==============================] - 0s 5ms/step - loss: 0.4419 - binary_accuracy: 0.8351 - val_loss: 0.4877 - val_binary_accuracy: 0.8004\n",
            "Epoch 26/40\n",
            "11/11 [==============================] - 0s 6ms/step - loss: 0.4267 - binary_accuracy: 0.8407 - val_loss: 0.4786 - val_binary_accuracy: 0.8034\n",
            "Epoch 27/40\n",
            "11/11 [==============================] - 0s 6ms/step - loss: 0.4124 - binary_accuracy: 0.8474 - val_loss: 0.4707 - val_binary_accuracy: 0.8095\n",
            "Epoch 28/40\n",
            "11/11 [==============================] - 0s 5ms/step - loss: 0.3994 - binary_accuracy: 0.8548 - val_loss: 0.4640 - val_binary_accuracy: 0.8091\n",
            "Epoch 29/40\n",
            "11/11 [==============================] - 0s 5ms/step - loss: 0.3873 - binary_accuracy: 0.8514 - val_loss: 0.4582 - val_binary_accuracy: 0.8117\n",
            "Epoch 30/40\n",
            "11/11 [==============================] - 0s 6ms/step - loss: 0.3764 - binary_accuracy: 0.8596 - val_loss: 0.4541 - val_binary_accuracy: 0.8021\n",
            "Epoch 31/40\n",
            "11/11 [==============================] - 0s 7ms/step - loss: 0.3660 - binary_accuracy: 0.8598 - val_loss: 0.4497 - val_binary_accuracy: 0.8087\n",
            "Epoch 32/40\n",
            "11/11 [==============================] - 0s 6ms/step - loss: 0.3571 - binary_accuracy: 0.8619 - val_loss: 0.4470 - val_binary_accuracy: 0.8039\n",
            "Epoch 33/40\n",
            "11/11 [==============================] - 0s 6ms/step - loss: 0.3478 - binary_accuracy: 0.8662 - val_loss: 0.4448 - val_binary_accuracy: 0.8021\n",
            "Epoch 34/40\n",
            "11/11 [==============================] - 0s 5ms/step - loss: 0.3399 - binary_accuracy: 0.8685 - val_loss: 0.4430 - val_binary_accuracy: 0.8030\n",
            "Epoch 35/40\n",
            "11/11 [==============================] - 0s 6ms/step - loss: 0.3326 - binary_accuracy: 0.8713 - val_loss: 0.4419 - val_binary_accuracy: 0.8043\n",
            "Epoch 36/40\n",
            "11/11 [==============================] - 0s 7ms/step - loss: 0.3258 - binary_accuracy: 0.8716 - val_loss: 0.4408 - val_binary_accuracy: 0.8039\n",
            "Epoch 37/40\n",
            "11/11 [==============================] - 0s 6ms/step - loss: 0.3188 - binary_accuracy: 0.8752 - val_loss: 0.4407 - val_binary_accuracy: 0.8043\n",
            "Epoch 38/40\n",
            "11/11 [==============================] - 0s 6ms/step - loss: 0.3128 - binary_accuracy: 0.8778 - val_loss: 0.4409 - val_binary_accuracy: 0.8030\n",
            "Epoch 39/40\n",
            "11/11 [==============================] - 0s 6ms/step - loss: 0.3068 - binary_accuracy: 0.8784 - val_loss: 0.4412 - val_binary_accuracy: 0.8034\n",
            "Epoch 40/40\n",
            "11/11 [==============================] - 0s 5ms/step - loss: 0.3016 - binary_accuracy: 0.8808 - val_loss: 0.4416 - val_binary_accuracy: 0.8034\n"
          ]
        }
      ]
    },
    {
      "cell_type": "markdown",
      "source": [
        "### Perfomrance visualization "
      ],
      "metadata": {
        "id": "qXVMOnMh3gFk"
      },
      "id": "qXVMOnMh3gFk"
    },
    {
      "cell_type": "code",
      "source": [
        "# Visualization of the training process on the loss function \n",
        "plt.plot(history_emb.history[\"loss\"], color=\"b\")\n",
        "plt.plot(history_emb.history[\"val_loss\"], color=\"r\")\n",
        "plt.ylabel(\"loss\")\n",
        "plt.xlabel(\"Epochs\")\n",
        "plt.show()"
      ],
      "metadata": {
        "colab": {
          "base_uri": "https://localhost:8080/",
          "height": 279
        },
        "id": "jbt2rE7KG-Hi",
        "outputId": "e9fe4ec9-afe3-4d53-efa0-8f6b532d2547"
      },
      "id": "jbt2rE7KG-Hi",
      "execution_count": 20,
      "outputs": [
        {
          "output_type": "display_data",
          "data": {
            "text/plain": [
              "<Figure size 432x288 with 1 Axes>"
            ],
            "image/png": "[encoded data removed]"
          },
          "metadata": {
            "needs_background": "light"
          }
        }
      ]
    },
    {
      "cell_type": "code",
      "source": [
        "# Visualization of accuracy training \n",
        "plt.plot(history_emb.history[\"binary_accuracy\"], color=\"b\")\n",
        "plt.plot(history_emb.history[\"val_binary_accuracy\"], color=\"r\")\n",
        "plt.ylabel(\"Accuracy\")\n",
        "plt.xlabel(\"Epochs\")\n",
        "plt.show()"
      ],
      "metadata": {
        "id": "Mp_RNvzEIQiB",
        "colab": {
          "base_uri": "https://localhost:8080/",
          "height": 279
        },
        "outputId": "f5f0b912-be8e-4d53-c0a9-4bc80a10cc9c"
      },
      "id": "Mp_RNvzEIQiB",
      "execution_count": 21,
      "outputs": [
        {
          "output_type": "display_data",
          "data": {
            "text/plain": [
              "<Figure size 432x288 with 1 Axes>"
            ],
            "image/png": "[encoded data removed]"
          },
          "metadata": {
            "needs_background": "light"
          }
        }
      ]
    },
    {
      "cell_type": "markdown",
      "source": [
        "* Good perfomances"
      ],
      "metadata": {
        "id": "_vNsFz5W4jB6"
      },
      "id": "_vNsFz5W4jB6"
    },
    {
      "cell_type": "markdown",
      "source": [
        "## Model with GRU"
      ],
      "metadata": {
        "id": "WPoOZDm707Ua"
      },
      "id": "WPoOZDm707Ua"
    },
    {
      "cell_type": "markdown",
      "source": [
        "### Model"
      ],
      "metadata": {
        "id": "VVsM-Nfn19al"
      },
      "id": "VVsM-Nfn19al"
    },
    {
      "cell_type": "code",
      "source": [
        "gru_model = Sequential([\n",
        "  Embedding(vocab_size, embedding_dim, name=\"embedding\"), # the embedding layer\n",
        "  # the input dim needs to be equal to the size of the vocabulary + 1 (because of\n",
        "  # the zero padding)\n",
        "  GRU(units=64, return_sequences=True), # maintains the sequential nature\n",
        "  GRU(units=32, return_sequences=False), # returns the last output\n",
        "  Dense(16, activation='relu'), # a dense layer\n",
        "  Dense(1, activation=\"sigmoid\") # the prediction layer\n",
        "])\n",
        "\n",
        "gru_model.summary()"
      ],
      "metadata": {
        "id": "I-aNoyrXrjbY",
        "colab": {
          "base_uri": "https://localhost:8080/"
        },
        "outputId": "cd985e8c-0e87-4173-8bbc-ca957633f03d"
      },
      "id": "I-aNoyrXrjbY",
      "execution_count": 22,
      "outputs": [
        {
          "output_type": "stream",
          "name": "stdout",
          "text": [
            "Model: \"sequential_1\"\n",
            "_________________________________________________________________\n",
            " Layer (type)                Output Shape              Param #   \n",
            "=================================================================\n",
            " embedding (Embedding)       (None, None, 8)           28000     \n",
            "                                                                 \n",
            " gru (GRU)                   (None, None, 64)          14208     \n",
            "                                                                 \n",
            " gru_1 (GRU)                 (None, 32)                9408      \n",
            "                                                                 \n",
            " dense_2 (Dense)             (None, 16)                528       \n",
            "                                                                 \n",
            " dense_3 (Dense)             (None, 1)                 17        \n",
            "                                                                 \n",
            "=================================================================\n",
            "Total params: 52,161\n",
            "Trainable params: 52,161\n",
            "Non-trainable params: 0\n",
            "_________________________________________________________________\n"
          ]
        }
      ]
    },
    {
      "cell_type": "markdown",
      "source": [
        "### Compile"
      ],
      "metadata": {
        "id": "wGuWkXvP2g4F"
      },
      "id": "wGuWkXvP2g4F"
    },
    {
      "cell_type": "code",
      "source": [
        "gru_model.compile(optimizer=optimizer,\n",
        "              loss=BinaryCrossentropy(),\n",
        "              metrics=[BinaryAccuracy()])"
      ],
      "metadata": {
        "id": "3eYx_b_-1lTo"
      },
      "id": "3eYx_b_-1lTo",
      "execution_count": 23,
      "outputs": []
    },
    {
      "cell_type": "markdown",
      "source": [
        "### Fit on 10 epochs"
      ],
      "metadata": {
        "id": "IPmcVs2v3EdI"
      },
      "id": "IPmcVs2v3EdI"
    },
    {
      "cell_type": "code",
      "source": [
        "history_gru = gru_model.fit(\n",
        "    train_batch,\n",
        "    validation_data=val_batch,\n",
        "    epochs=10,\n",
        "    callbacks=[tensorboard_callback])"
      ],
      "metadata": {
        "colab": {
          "base_uri": "https://localhost:8080/"
        },
        "id": "6D7KP1Up2ly4",
        "outputId": "8ec47cf2-d18d-46b8-ad30-5e22d1deee85"
      },
      "id": "6D7KP1Up2ly4",
      "execution_count": 24,
      "outputs": [
        {
          "output_type": "stream",
          "name": "stdout",
          "text": [
            "Epoch 1/10\n",
            "11/11 [==============================] - 5s 183ms/step - loss: 0.6884 - binary_accuracy: 0.5521 - val_loss: 0.6818 - val_binary_accuracy: 0.5771\n",
            "Epoch 2/10\n",
            "11/11 [==============================] - 1s 81ms/step - loss: 0.6842 - binary_accuracy: 0.5675 - val_loss: 0.6812 - val_binary_accuracy: 0.5771\n",
            "Epoch 3/10\n",
            "11/11 [==============================] - 1s 83ms/step - loss: 0.6826 - binary_accuracy: 0.5675 - val_loss: 0.6728 - val_binary_accuracy: 0.5771\n",
            "Epoch 4/10\n",
            "11/11 [==============================] - 1s 80ms/step - loss: 0.5907 - binary_accuracy: 0.6906 - val_loss: 0.5451 - val_binary_accuracy: 0.7391\n",
            "Epoch 5/10\n",
            "11/11 [==============================] - 1s 83ms/step - loss: 0.4435 - binary_accuracy: 0.8174 - val_loss: 0.4614 - val_binary_accuracy: 0.7995\n",
            "Epoch 6/10\n",
            "11/11 [==============================] - 1s 84ms/step - loss: 0.3658 - binary_accuracy: 0.8623 - val_loss: 0.4765 - val_binary_accuracy: 0.7986\n",
            "Epoch 7/10\n",
            "11/11 [==============================] - 1s 79ms/step - loss: 0.3121 - binary_accuracy: 0.8883 - val_loss: 0.4909 - val_binary_accuracy: 0.7907\n",
            "Epoch 8/10\n",
            "11/11 [==============================] - 1s 77ms/step - loss: 0.2784 - binary_accuracy: 0.9047 - val_loss: 0.5127 - val_binary_accuracy: 0.7951\n",
            "Epoch 9/10\n",
            "11/11 [==============================] - 1s 83ms/step - loss: 0.2511 - binary_accuracy: 0.9169 - val_loss: 0.5350 - val_binary_accuracy: 0.7929\n",
            "Epoch 10/10\n",
            "11/11 [==============================] - 1s 78ms/step - loss: 0.2281 - binary_accuracy: 0.9270 - val_loss: 0.5726 - val_binary_accuracy: 0.7938\n"
          ]
        }
      ]
    },
    {
      "cell_type": "markdown",
      "source": [
        "### Performance visualization"
      ],
      "metadata": {
        "id": "DZKre2yg3nw6"
      },
      "id": "DZKre2yg3nw6"
    },
    {
      "cell_type": "code",
      "source": [
        "# Visualization of the training process on the loss function \n",
        "plt.plot(history_gru.history[\"loss\"], color=\"b\")\n",
        "plt.plot(history_gru.history[\"val_loss\"], color=\"r\")\n",
        "plt.ylabel(\"loss\")\n",
        "plt.xlabel(\"Epochs\")\n",
        "plt.show()"
      ],
      "metadata": {
        "colab": {
          "base_uri": "https://localhost:8080/",
          "height": 279
        },
        "id": "0FKwJLEW3SRL",
        "outputId": "6e82fa8e-d575-47e1-d5d9-a80982b188d8"
      },
      "id": "0FKwJLEW3SRL",
      "execution_count": 25,
      "outputs": [
        {
          "output_type": "display_data",
          "data": {
            "text/plain": [
              "<Figure size 432x288 with 1 Axes>"
            ],
            "image/png": "[encoded data removed]"
          },
          "metadata": {
            "needs_background": "light"
          }
        }
      ]
    },
    {
      "cell_type": "code",
      "source": [
        "# Visualization of accuracy training \n",
        "plt.plot(history_gru.history[\"binary_accuracy\"], color=\"b\")\n",
        "plt.plot(history_gru.history[\"val_binary_accuracy\"], color=\"r\")\n",
        "plt.ylabel(\"Accuracy\")\n",
        "plt.xlabel(\"Epochs\")\n",
        "plt.show()"
      ],
      "metadata": {
        "colab": {
          "base_uri": "https://localhost:8080/",
          "height": 279
        },
        "id": "rBW0vrRw3veZ",
        "outputId": "9e424068-e20b-4c11-c1c4-fd262aed963d"
      },
      "id": "rBW0vrRw3veZ",
      "execution_count": 26,
      "outputs": [
        {
          "output_type": "display_data",
          "data": {
            "text/plain": [
              "<Figure size 432x288 with 1 Axes>"
            ],
            "image/png": "[encoded data removed]"
          },
          "metadata": {
            "needs_background": "light"
          }
        }
      ]
    },
    {
      "cell_type": "markdown",
      "source": [
        "* The model tends to quickly overfit and have worst performances"
      ],
      "metadata": {
        "id": "inWfxUMj4NEK"
      },
      "id": "inWfxUMj4NEK"
    },
    {
      "cell_type": "markdown",
      "source": [
        "## Model with LSTM"
      ],
      "metadata": {
        "id": "TSS9RckQ4VNJ"
      },
      "id": "TSS9RckQ4VNJ"
    },
    {
      "cell_type": "markdown",
      "source": [
        "### Model"
      ],
      "metadata": {
        "id": "kolO9Arg4oYu"
      },
      "id": "kolO9Arg4oYu"
    },
    {
      "cell_type": "code",
      "source": [
        "lstm_model = Sequential([\n",
        "  Embedding(vocab_size, embedding_dim, name=\"embedding\"), # the embedding layer\n",
        "  # the input dim needs to be equal to the size of the vocabulary + 1 (because of\n",
        "  # the zero padding)\n",
        "  LSTM(units=64, return_sequences=True), # maintains the sequential nature\n",
        "  LSTM(units=32, return_sequences=False), # returns the last output\n",
        "  Dense(16, activation='relu'), # a dense layer\n",
        "  Dense(1, activation=\"sigmoid\") # the prediction layer\n",
        "])\n",
        "\n",
        "lstm_model.summary()"
      ],
      "metadata": {
        "colab": {
          "base_uri": "https://localhost:8080/"
        },
        "id": "st41JpNN3-GW",
        "outputId": "89d2bf7c-68be-4e27-defe-e327824bc713"
      },
      "id": "st41JpNN3-GW",
      "execution_count": 27,
      "outputs": [
        {
          "output_type": "stream",
          "name": "stdout",
          "text": [
            "Model: \"sequential_2\"\n",
            "_________________________________________________________________\n",
            " Layer (type)                Output Shape              Param #   \n",
            "=================================================================\n",
            " embedding (Embedding)       (None, None, 8)           28000     \n",
            "                                                                 \n",
            " lstm (LSTM)                 (None, None, 64)          18688     \n",
            "                                                                 \n",
            " lstm_1 (LSTM)               (None, 32)                12416     \n",
            "                                                                 \n",
            " dense_4 (Dense)             (None, 16)                528       \n",
            "                                                                 \n",
            " dense_5 (Dense)             (None, 1)                 17        \n",
            "                                                                 \n",
            "=================================================================\n",
            "Total params: 59,649\n",
            "Trainable params: 59,649\n",
            "Non-trainable params: 0\n",
            "_________________________________________________________________\n"
          ]
        }
      ]
    },
    {
      "cell_type": "markdown",
      "source": [
        "### Compile"
      ],
      "metadata": {
        "id": "osOx0DY_4wF8"
      },
      "id": "osOx0DY_4wF8"
    },
    {
      "cell_type": "code",
      "source": [
        "lstm_model.compile(optimizer=optimizer,\n",
        "              loss=BinaryCrossentropy(),\n",
        "              metrics=[BinaryAccuracy()])"
      ],
      "metadata": {
        "id": "fe3GnHcH4qSF"
      },
      "id": "fe3GnHcH4qSF",
      "execution_count": 28,
      "outputs": []
    },
    {
      "cell_type": "markdown",
      "source": [
        "### Fit on 10 epochs"
      ],
      "metadata": {
        "id": "W4ysR8v346Op"
      },
      "id": "W4ysR8v346Op"
    },
    {
      "cell_type": "code",
      "source": [
        "history_lstm = lstm_model.fit(\n",
        "    train_batch,\n",
        "    validation_data=val_batch,\n",
        "    epochs=10,\n",
        "    callbacks=[tensorboard_callback])"
      ],
      "metadata": {
        "colab": {
          "base_uri": "https://localhost:8080/"
        },
        "id": "z4EYzB_F40h3",
        "outputId": "e162c216-2b01-4e27-e9e6-d692965f26ff"
      },
      "id": "z4EYzB_F40h3",
      "execution_count": 29,
      "outputs": [
        {
          "output_type": "stream",
          "name": "stdout",
          "text": [
            "Epoch 1/10\n",
            "11/11 [==============================] - 6s 172ms/step - loss: 0.6858 - binary_accuracy: 0.5523 - val_loss: 0.6792 - val_binary_accuracy: 0.5771\n",
            "Epoch 2/10\n",
            "11/11 [==============================] - 1s 98ms/step - loss: 0.5890 - binary_accuracy: 0.6799 - val_loss: 0.5280 - val_binary_accuracy: 0.7894\n",
            "Epoch 3/10\n",
            "11/11 [==============================] - 1s 96ms/step - loss: 0.4011 - binary_accuracy: 0.8495 - val_loss: 0.4684 - val_binary_accuracy: 0.7863\n",
            "Epoch 4/10\n",
            "11/11 [==============================] - 1s 97ms/step - loss: 0.3210 - binary_accuracy: 0.8882 - val_loss: 0.4696 - val_binary_accuracy: 0.7881\n",
            "Epoch 5/10\n",
            "11/11 [==============================] - 1s 110ms/step - loss: 0.2777 - binary_accuracy: 0.9067 - val_loss: 0.5725 - val_binary_accuracy: 0.7666\n",
            "Epoch 6/10\n",
            "11/11 [==============================] - 1s 114ms/step - loss: 0.2412 - binary_accuracy: 0.9195 - val_loss: 0.5994 - val_binary_accuracy: 0.7780\n",
            "Epoch 7/10\n",
            "11/11 [==============================] - 1s 92ms/step - loss: 0.2138 - binary_accuracy: 0.9309 - val_loss: 0.5688 - val_binary_accuracy: 0.7842\n",
            "Epoch 8/10\n",
            "11/11 [==============================] - 1s 94ms/step - loss: 0.2031 - binary_accuracy: 0.9328 - val_loss: 0.7068 - val_binary_accuracy: 0.7693\n",
            "Epoch 9/10\n",
            "11/11 [==============================] - 1s 95ms/step - loss: 0.1828 - binary_accuracy: 0.9443 - val_loss: 0.6777 - val_binary_accuracy: 0.7728\n",
            "Epoch 10/10\n",
            "11/11 [==============================] - 1s 95ms/step - loss: 0.1659 - binary_accuracy: 0.9501 - val_loss: 0.6952 - val_binary_accuracy: 0.7732\n"
          ]
        }
      ]
    },
    {
      "cell_type": "markdown",
      "source": [
        "### Performance visualization"
      ],
      "metadata": {
        "id": "tezBPok55F3S"
      },
      "id": "tezBPok55F3S"
    },
    {
      "cell_type": "code",
      "source": [
        "# Visualization of the training process on the loss function \n",
        "plt.plot(history_lstm.history[\"loss\"], color=\"b\")\n",
        "plt.plot(history_lstm.history[\"val_loss\"], color=\"r\")\n",
        "plt.ylabel(\"loss\")\n",
        "plt.xlabel(\"Epochs\")\n",
        "plt.show()"
      ],
      "metadata": {
        "colab": {
          "base_uri": "https://localhost:8080/",
          "height": 279
        },
        "id": "1lvOTfb-4_za",
        "outputId": "940851c7-722e-4451-94b9-02a0fcc64e2f"
      },
      "id": "1lvOTfb-4_za",
      "execution_count": 30,
      "outputs": [
        {
          "output_type": "display_data",
          "data": {
            "text/plain": [
              "<Figure size 432x288 with 1 Axes>"
            ],
            "image/png": "[encoded data removed]"
          },
          "metadata": {
            "needs_background": "light"
          }
        }
      ]
    },
    {
      "cell_type": "code",
      "source": [
        "# Visualization of accuracy training \n",
        "plt.plot(history_lstm.history[\"binary_accuracy\"], color=\"b\")\n",
        "plt.plot(history_lstm.history[\"val_binary_accuracy\"], color=\"r\")\n",
        "plt.ylabel(\"Accuracy\")\n",
        "plt.xlabel(\"Epochs\")\n",
        "plt.show()"
      ],
      "metadata": {
        "colab": {
          "base_uri": "https://localhost:8080/",
          "height": 279
        },
        "id": "OLgnBq7u5N-D",
        "outputId": "92283bf3-78d4-4137-8c54-11b9dd658ef9"
      },
      "id": "OLgnBq7u5N-D",
      "execution_count": 31,
      "outputs": [
        {
          "output_type": "display_data",
          "data": {
            "text/plain": [
              "<Figure size 432x288 with 1 Axes>"
            ],
            "image/png": "[encoded data removed]"
          },
          "metadata": {
            "needs_background": "light"
          }
        }
      ]
    },
    {
      "cell_type": "markdown",
      "source": [
        "* Same conclusion as the GRU model"
      ],
      "metadata": {
        "id": "RCI6raJn5X32"
      },
      "id": "RCI6raJn5X32"
    },
    {
      "cell_type": "markdown",
      "source": [
        "## GRU with learning rate tuned"
      ],
      "metadata": {
        "id": "D6aIXz_kfAjV"
      },
      "id": "D6aIXz_kfAjV"
    },
    {
      "cell_type": "markdown",
      "source": [
        "**Let's try to fight overfitting with tuning the learning rate**"
      ],
      "metadata": {
        "id": "T6eckSjKf0Up"
      },
      "id": "T6eckSjKf0Up"
    },
    {
      "cell_type": "markdown",
      "source": [
        "### Model"
      ],
      "metadata": {
        "id": "pMIKrLlhfAjV"
      },
      "id": "pMIKrLlhfAjV"
    },
    {
      "cell_type": "code",
      "source": [
        "gru_lr_model = Sequential([\n",
        "  Embedding(vocab_size, embedding_dim, name=\"embedding\"), # the embedding layer\n",
        "  # the input dim needs to be equal to the size of the vocabulary + 1 (because of\n",
        "  # the zero padding)\n",
        "  GRU(units=64, return_sequences=True), # maintains the sequential nature\n",
        "  GRU(units=32, return_sequences=False), # returns the last output\n",
        "  Dense(16, activation='relu'), # a dense layer\n",
        "  Dense(1, activation=\"sigmoid\") # the prediction layer\n",
        "])\n",
        "\n",
        "gru_lr_model.summary()"
      ],
      "metadata": {
        "colab": {
          "base_uri": "https://localhost:8080/"
        },
        "outputId": "e5d3e7f4-181f-47a8-e728-fec8ac16b518",
        "id": "mQWa9yrvfAjW"
      },
      "execution_count": 32,
      "outputs": [
        {
          "output_type": "stream",
          "name": "stdout",
          "text": [
            "Model: \"sequential_3\"\n",
            "_________________________________________________________________\n",
            " Layer (type)                Output Shape              Param #   \n",
            "=================================================================\n",
            " embedding (Embedding)       (None, None, 8)           28000     \n",
            "                                                                 \n",
            " gru_2 (GRU)                 (None, None, 64)          14208     \n",
            "                                                                 \n",
            " gru_3 (GRU)                 (None, 32)                9408      \n",
            "                                                                 \n",
            " dense_6 (Dense)             (None, 16)                528       \n",
            "                                                                 \n",
            " dense_7 (Dense)             (None, 1)                 17        \n",
            "                                                                 \n",
            "=================================================================\n",
            "Total params: 52,161\n",
            "Trainable params: 52,161\n",
            "Non-trainable params: 0\n",
            "_________________________________________________________________\n"
          ]
        }
      ],
      "id": "mQWa9yrvfAjW"
    },
    {
      "cell_type": "markdown",
      "source": [
        "### Compile"
      ],
      "metadata": {
        "id": "x56wMYDYfAjW"
      },
      "id": "x56wMYDYfAjW"
    },
    {
      "cell_type": "code",
      "source": [
        "optimizer= tf.keras.optimizers.Adam(learning_rate=0.0001)\n",
        "\n",
        "gru_lr_model.compile(optimizer=optimizer,\n",
        "              loss=BinaryCrossentropy(),\n",
        "              metrics=[BinaryAccuracy()])"
      ],
      "metadata": {
        "id": "TdSVidsJfAjW"
      },
      "execution_count": 33,
      "outputs": [],
      "id": "TdSVidsJfAjW"
    },
    {
      "cell_type": "markdown",
      "source": [
        "### Fit on 40 epochs"
      ],
      "metadata": {
        "id": "BUKz4MuafAjX"
      },
      "id": "BUKz4MuafAjX"
    },
    {
      "cell_type": "code",
      "source": [
        "history_gru_lr = gru_lr_model.fit(\n",
        "    train_batch,\n",
        "    validation_data=val_batch,\n",
        "    epochs=40,\n",
        "    callbacks=[tensorboard_callback])"
      ],
      "metadata": {
        "colab": {
          "base_uri": "https://localhost:8080/"
        },
        "outputId": "23929a40-f207-418b-d089-8576a850b252",
        "id": "p50eug2vfAjX"
      },
      "execution_count": 34,
      "outputs": [
        {
          "output_type": "stream",
          "name": "stdout",
          "text": [
            "Epoch 1/40\n",
            "11/11 [==============================] - 5s 195ms/step - loss: 0.6930 - binary_accuracy: 0.5442 - val_loss: 0.6925 - val_binary_accuracy: 0.5771\n",
            "Epoch 2/40\n",
            "11/11 [==============================] - 1s 84ms/step - loss: 0.6922 - binary_accuracy: 0.5675 - val_loss: 0.6912 - val_binary_accuracy: 0.5771\n",
            "Epoch 3/40\n",
            "11/11 [==============================] - 1s 82ms/step - loss: 0.6908 - binary_accuracy: 0.5675 - val_loss: 0.6894 - val_binary_accuracy: 0.5771\n",
            "Epoch 4/40\n",
            "11/11 [==============================] - 1s 80ms/step - loss: 0.6893 - binary_accuracy: 0.5675 - val_loss: 0.6875 - val_binary_accuracy: 0.5771\n",
            "Epoch 5/40\n",
            "11/11 [==============================] - 1s 81ms/step - loss: 0.6877 - binary_accuracy: 0.5675 - val_loss: 0.6859 - val_binary_accuracy: 0.5771\n",
            "Epoch 6/40\n",
            "11/11 [==============================] - 1s 81ms/step - loss: 0.6864 - binary_accuracy: 0.5675 - val_loss: 0.6845 - val_binary_accuracy: 0.5771\n",
            "Epoch 7/40\n",
            "11/11 [==============================] - 1s 81ms/step - loss: 0.6854 - binary_accuracy: 0.5675 - val_loss: 0.6831 - val_binary_accuracy: 0.5771\n",
            "Epoch 8/40\n",
            "11/11 [==============================] - 1s 80ms/step - loss: 0.6846 - binary_accuracy: 0.5675 - val_loss: 0.6823 - val_binary_accuracy: 0.5771\n",
            "Epoch 9/40\n",
            "11/11 [==============================] - 1s 83ms/step - loss: 0.6842 - binary_accuracy: 0.5675 - val_loss: 0.6815 - val_binary_accuracy: 0.5771\n",
            "Epoch 10/40\n",
            "11/11 [==============================] - 1s 81ms/step - loss: 0.6839 - binary_accuracy: 0.5675 - val_loss: 0.6812 - val_binary_accuracy: 0.5771\n",
            "Epoch 11/40\n",
            "11/11 [==============================] - 1s 82ms/step - loss: 0.6837 - binary_accuracy: 0.5675 - val_loss: 0.6811 - val_binary_accuracy: 0.5771\n",
            "Epoch 12/40\n",
            "11/11 [==============================] - 1s 81ms/step - loss: 0.6837 - binary_accuracy: 0.5675 - val_loss: 0.6809 - val_binary_accuracy: 0.5771\n",
            "Epoch 13/40\n",
            "11/11 [==============================] - 1s 76ms/step - loss: 0.6838 - binary_accuracy: 0.5675 - val_loss: 0.6808 - val_binary_accuracy: 0.5771\n",
            "Epoch 14/40\n",
            "11/11 [==============================] - 1s 84ms/step - loss: 0.6836 - binary_accuracy: 0.5675 - val_loss: 0.6809 - val_binary_accuracy: 0.5771\n",
            "Epoch 15/40\n",
            "11/11 [==============================] - 1s 83ms/step - loss: 0.6836 - binary_accuracy: 0.5675 - val_loss: 0.6809 - val_binary_accuracy: 0.5771\n",
            "Epoch 16/40\n",
            "11/11 [==============================] - 1s 79ms/step - loss: 0.6835 - binary_accuracy: 0.5675 - val_loss: 0.6808 - val_binary_accuracy: 0.5771\n",
            "Epoch 17/40\n",
            "11/11 [==============================] - 1s 79ms/step - loss: 0.6834 - binary_accuracy: 0.5675 - val_loss: 0.6807 - val_binary_accuracy: 0.5771\n",
            "Epoch 18/40\n",
            "11/11 [==============================] - 1s 80ms/step - loss: 0.6833 - binary_accuracy: 0.5675 - val_loss: 0.6805 - val_binary_accuracy: 0.5771\n",
            "Epoch 19/40\n",
            "11/11 [==============================] - 1s 82ms/step - loss: 0.6832 - binary_accuracy: 0.5675 - val_loss: 0.6803 - val_binary_accuracy: 0.5771\n",
            "Epoch 20/40\n",
            "11/11 [==============================] - 1s 79ms/step - loss: 0.6830 - binary_accuracy: 0.5675 - val_loss: 0.6802 - val_binary_accuracy: 0.5771\n",
            "Epoch 21/40\n",
            "11/11 [==============================] - 1s 82ms/step - loss: 0.6828 - binary_accuracy: 0.5675 - val_loss: 0.6800 - val_binary_accuracy: 0.5771\n",
            "Epoch 22/40\n",
            "11/11 [==============================] - 1s 82ms/step - loss: 0.6826 - binary_accuracy: 0.5675 - val_loss: 0.6796 - val_binary_accuracy: 0.5771\n",
            "Epoch 23/40\n",
            "11/11 [==============================] - 1s 82ms/step - loss: 0.6822 - binary_accuracy: 0.5675 - val_loss: 0.6793 - val_binary_accuracy: 0.5771\n",
            "Epoch 24/40\n",
            "11/11 [==============================] - 1s 78ms/step - loss: 0.6816 - binary_accuracy: 0.5675 - val_loss: 0.6786 - val_binary_accuracy: 0.5771\n",
            "Epoch 25/40\n",
            "11/11 [==============================] - 1s 77ms/step - loss: 0.6806 - binary_accuracy: 0.5675 - val_loss: 0.6770 - val_binary_accuracy: 0.5771\n",
            "Epoch 26/40\n",
            "11/11 [==============================] - 1s 80ms/step - loss: 0.6787 - binary_accuracy: 0.5675 - val_loss: 0.6744 - val_binary_accuracy: 0.5771\n",
            "Epoch 27/40\n",
            "11/11 [==============================] - 1s 79ms/step - loss: 0.6747 - binary_accuracy: 0.5675 - val_loss: 0.6687 - val_binary_accuracy: 0.5771\n",
            "Epoch 28/40\n",
            "11/11 [==============================] - 1s 81ms/step - loss: 0.6647 - binary_accuracy: 0.5705 - val_loss: 0.6539 - val_binary_accuracy: 0.5823\n",
            "Epoch 29/40\n",
            "11/11 [==============================] - 1s 81ms/step - loss: 0.6389 - binary_accuracy: 0.6144 - val_loss: 0.6180 - val_binary_accuracy: 0.6668\n",
            "Epoch 30/40\n",
            "11/11 [==============================] - 1s 79ms/step - loss: 0.5848 - binary_accuracy: 0.7187 - val_loss: 0.5660 - val_binary_accuracy: 0.7465\n",
            "Epoch 31/40\n",
            "11/11 [==============================] - 1s 82ms/step - loss: 0.5118 - binary_accuracy: 0.7880 - val_loss: 0.5286 - val_binary_accuracy: 0.7636\n",
            "Epoch 32/40\n",
            "11/11 [==============================] - 1s 79ms/step - loss: 0.4549 - binary_accuracy: 0.8048 - val_loss: 0.5178 - val_binary_accuracy: 0.7601\n",
            "Epoch 33/40\n",
            "11/11 [==============================] - 1s 82ms/step - loss: 0.4205 - binary_accuracy: 0.8180 - val_loss: 0.5043 - val_binary_accuracy: 0.7631\n",
            "Epoch 34/40\n",
            "11/11 [==============================] - 1s 81ms/step - loss: 0.3979 - binary_accuracy: 0.8290 - val_loss: 0.4780 - val_binary_accuracy: 0.7850\n",
            "Epoch 35/40\n",
            "11/11 [==============================] - 1s 86ms/step - loss: 0.3813 - binary_accuracy: 0.8405 - val_loss: 0.4739 - val_binary_accuracy: 0.7868\n",
            "Epoch 36/40\n",
            "11/11 [==============================] - 1s 89ms/step - loss: 0.3690 - binary_accuracy: 0.8437 - val_loss: 0.4767 - val_binary_accuracy: 0.7850\n",
            "Epoch 37/40\n",
            "11/11 [==============================] - 1s 84ms/step - loss: 0.3592 - binary_accuracy: 0.8497 - val_loss: 0.4705 - val_binary_accuracy: 0.7951\n",
            "Epoch 38/40\n",
            "11/11 [==============================] - 1s 83ms/step - loss: 0.3495 - binary_accuracy: 0.8566 - val_loss: 0.4678 - val_binary_accuracy: 0.7916\n",
            "Epoch 39/40\n",
            "11/11 [==============================] - 1s 86ms/step - loss: 0.3420 - binary_accuracy: 0.8619 - val_loss: 0.4771 - val_binary_accuracy: 0.7846\n",
            "Epoch 40/40\n",
            "11/11 [==============================] - 1s 86ms/step - loss: 0.3338 - binary_accuracy: 0.8643 - val_loss: 0.4699 - val_binary_accuracy: 0.7951\n"
          ]
        }
      ],
      "id": "p50eug2vfAjX"
    },
    {
      "cell_type": "markdown",
      "source": [
        "### Performance visualization"
      ],
      "metadata": {
        "id": "auEXHMGIfAjX"
      },
      "id": "auEXHMGIfAjX"
    },
    {
      "cell_type": "code",
      "source": [
        "# Visualization of the training process on the loss function \n",
        "plt.plot(history_gru_lr.history[\"loss\"], color=\"b\")\n",
        "plt.plot(history_gru_lr.history[\"val_loss\"], color=\"r\")\n",
        "plt.ylabel(\"loss\")\n",
        "plt.xlabel(\"Epochs\")\n",
        "plt.show()"
      ],
      "metadata": {
        "colab": {
          "base_uri": "https://localhost:8080/",
          "height": 279
        },
        "outputId": "a7441bb1-1e83-42ed-a4d9-f2ea7e6acb1c",
        "id": "GqqGUCxUfAjX"
      },
      "execution_count": 35,
      "outputs": [
        {
          "output_type": "display_data",
          "data": {
            "text/plain": [
              "<Figure size 432x288 with 1 Axes>"
            ],
            "image/png": "[encoded data removed]"
          },
          "metadata": {
            "needs_background": "light"
          }
        }
      ],
      "id": "GqqGUCxUfAjX"
    },
    {
      "cell_type": "code",
      "source": [
        "# Visualization of accuracy training \n",
        "plt.plot(history_gru_lr.history[\"binary_accuracy\"], color=\"b\")\n",
        "plt.plot(history_gru_lr.history[\"val_binary_accuracy\"], color=\"r\")\n",
        "plt.ylabel(\"Accuracy\")\n",
        "plt.xlabel(\"Epochs\")\n",
        "plt.show()"
      ],
      "metadata": {
        "colab": {
          "base_uri": "https://localhost:8080/",
          "height": 279
        },
        "outputId": "a249fda6-15fc-4802-d38e-6699c665f975",
        "id": "aP3OdQdqfAjY"
      },
      "execution_count": 36,
      "outputs": [
        {
          "output_type": "display_data",
          "data": {
            "text/plain": [
              "<Figure size 432x288 with 1 Axes>"
            ],
            "image/png": "[encoded data removed]"
          },
          "metadata": {
            "needs_background": "light"
          }
        }
      ],
      "id": "aP3OdQdqfAjY"
    },
    {
      "cell_type": "markdown",
      "source": [
        "* Has equivalent performances as the simple embedding model"
      ],
      "metadata": {
        "id": "QtXWgqEjfAjY"
      },
      "id": "QtXWgqEjfAjY"
    },
    {
      "cell_type": "markdown",
      "source": [
        "## GRU simplified"
      ],
      "metadata": {
        "id": "ezHeszCdXmL2"
      },
      "id": "ezHeszCdXmL2"
    },
    {
      "cell_type": "markdown",
      "source": [
        "**Let's try to fight overfitting by simplifying the models**"
      ],
      "metadata": {
        "id": "97ShcuLWb5Y0"
      },
      "id": "97ShcuLWb5Y0"
    },
    {
      "cell_type": "markdown",
      "source": [
        "### Model"
      ],
      "metadata": {
        "id": "HE4mcorkXmL4"
      },
      "id": "HE4mcorkXmL4"
    },
    {
      "cell_type": "code",
      "source": [
        "gru_s_model = Sequential([\n",
        "  Embedding(vocab_size, embedding_dim, name=\"embedding\"), # the embedding layer\n",
        "  # the input dim needs to be equal to the size of the vocabulary + 1 (because of\n",
        "  # the zero padding)\n",
        "  GRU(units=32, return_sequences=False), # returns the last output\n",
        "  Dense(16, activation='relu'), # a dense layer\n",
        "  Dense(1, activation=\"sigmoid\") # the prediction layer\n",
        "])\n",
        "\n",
        "gru_s_model.summary()"
      ],
      "metadata": {
        "colab": {
          "base_uri": "https://localhost:8080/"
        },
        "outputId": "a3c35b60-d1c6-48ec-ea62-5bdae886b742",
        "id": "H1P_JjlYXmL4"
      },
      "execution_count": 37,
      "outputs": [
        {
          "output_type": "stream",
          "name": "stdout",
          "text": [
            "Model: \"sequential_4\"\n",
            "_________________________________________________________________\n",
            " Layer (type)                Output Shape              Param #   \n",
            "=================================================================\n",
            " embedding (Embedding)       (None, None, 8)           28000     \n",
            "                                                                 \n",
            " gru_4 (GRU)                 (None, 32)                4032      \n",
            "                                                                 \n",
            " dense_8 (Dense)             (None, 16)                528       \n",
            "                                                                 \n",
            " dense_9 (Dense)             (None, 1)                 17        \n",
            "                                                                 \n",
            "=================================================================\n",
            "Total params: 32,577\n",
            "Trainable params: 32,577\n",
            "Non-trainable params: 0\n",
            "_________________________________________________________________\n"
          ]
        }
      ],
      "id": "H1P_JjlYXmL4"
    },
    {
      "cell_type": "markdown",
      "source": [
        "### Compile"
      ],
      "metadata": {
        "id": "Yq6INbItXmL5"
      },
      "id": "Yq6INbItXmL5"
    },
    {
      "cell_type": "code",
      "source": [
        "optimizer= tf.keras.optimizers.Adam()\n",
        "\n",
        "gru_s_model.compile(optimizer=optimizer,\n",
        "              loss=BinaryCrossentropy(),\n",
        "              metrics=[BinaryAccuracy()])"
      ],
      "metadata": {
        "id": "ql5d_uXzXmL6"
      },
      "execution_count": 38,
      "outputs": [],
      "id": "ql5d_uXzXmL6"
    },
    {
      "cell_type": "markdown",
      "source": [
        "### Fit on 15 epochs"
      ],
      "metadata": {
        "id": "sa0xZWzjXmL6"
      },
      "id": "sa0xZWzjXmL6"
    },
    {
      "cell_type": "code",
      "source": [
        "history_gru_s = gru_s_model.fit(\n",
        "    train_batch,\n",
        "    validation_data=val_batch,\n",
        "    epochs=15,\n",
        "    callbacks=[tensorboard_callback])"
      ],
      "metadata": {
        "colab": {
          "base_uri": "https://localhost:8080/"
        },
        "outputId": "67a0f76a-616d-4767-d457-10a895f843f2",
        "id": "z2_H7bcKXmL6"
      },
      "execution_count": 39,
      "outputs": [
        {
          "output_type": "stream",
          "name": "stdout",
          "text": [
            "Epoch 1/15\n",
            "11/11 [==============================] - 3s 68ms/step - loss: 0.6900 - binary_accuracy: 0.5675 - val_loss: 0.6862 - val_binary_accuracy: 0.5771\n",
            "Epoch 2/15\n",
            "11/11 [==============================] - 0s 24ms/step - loss: 0.6854 - binary_accuracy: 0.5675 - val_loss: 0.6818 - val_binary_accuracy: 0.5771\n",
            "Epoch 3/15\n",
            "11/11 [==============================] - 0s 29ms/step - loss: 0.6852 - binary_accuracy: 0.5675 - val_loss: 0.6812 - val_binary_accuracy: 0.5771\n",
            "Epoch 4/15\n",
            "11/11 [==============================] - 0s 29ms/step - loss: 0.6841 - binary_accuracy: 0.5675 - val_loss: 0.6815 - val_binary_accuracy: 0.5771\n",
            "Epoch 5/15\n",
            "11/11 [==============================] - 0s 27ms/step - loss: 0.6840 - binary_accuracy: 0.5675 - val_loss: 0.6815 - val_binary_accuracy: 0.5771\n",
            "Epoch 6/15\n",
            "11/11 [==============================] - 0s 24ms/step - loss: 0.6839 - binary_accuracy: 0.5675 - val_loss: 0.6814 - val_binary_accuracy: 0.5771\n",
            "Epoch 7/15\n",
            "11/11 [==============================] - 0s 27ms/step - loss: 0.6838 - binary_accuracy: 0.5675 - val_loss: 0.6810 - val_binary_accuracy: 0.5771\n",
            "Epoch 8/15\n",
            "11/11 [==============================] - 0s 27ms/step - loss: 0.6837 - binary_accuracy: 0.5675 - val_loss: 0.6807 - val_binary_accuracy: 0.5771\n",
            "Epoch 9/15\n",
            "11/11 [==============================] - 0s 28ms/step - loss: 0.6832 - binary_accuracy: 0.5675 - val_loss: 0.6801 - val_binary_accuracy: 0.5771\n",
            "Epoch 10/15\n",
            "11/11 [==============================] - 0s 27ms/step - loss: 0.6814 - binary_accuracy: 0.5675 - val_loss: 0.6754 - val_binary_accuracy: 0.5771\n",
            "Epoch 11/15\n",
            "11/11 [==============================] - 0s 25ms/step - loss: 0.6617 - binary_accuracy: 0.5675 - val_loss: 0.6128 - val_binary_accuracy: 0.5771\n",
            "Epoch 12/15\n",
            "11/11 [==============================] - 0s 26ms/step - loss: 0.5459 - binary_accuracy: 0.7266 - val_loss: 0.5410 - val_binary_accuracy: 0.7649\n",
            "Epoch 13/15\n",
            "11/11 [==============================] - 0s 28ms/step - loss: 0.4479 - binary_accuracy: 0.8165 - val_loss: 0.4821 - val_binary_accuracy: 0.7855\n",
            "Epoch 14/15\n",
            "11/11 [==============================] - 0s 27ms/step - loss: 0.3760 - binary_accuracy: 0.8454 - val_loss: 0.4640 - val_binary_accuracy: 0.8012\n",
            "Epoch 15/15\n",
            "11/11 [==============================] - 0s 27ms/step - loss: 0.3339 - binary_accuracy: 0.8670 - val_loss: 0.4660 - val_binary_accuracy: 0.8043\n"
          ]
        }
      ],
      "id": "z2_H7bcKXmL6"
    },
    {
      "cell_type": "markdown",
      "source": [
        "### Performance visualization"
      ],
      "metadata": {
        "id": "OQi-FL-vXmL6"
      },
      "id": "OQi-FL-vXmL6"
    },
    {
      "cell_type": "code",
      "source": [
        "# Visualization of the training process on the loss function \n",
        "plt.plot(history_gru_s.history[\"loss\"], color=\"b\")\n",
        "plt.plot(history_gru_s.history[\"val_loss\"], color=\"r\")\n",
        "plt.ylabel(\"loss\")\n",
        "plt.xlabel(\"Epochs\")\n",
        "plt.show()"
      ],
      "metadata": {
        "colab": {
          "base_uri": "https://localhost:8080/",
          "height": 279
        },
        "outputId": "2f2ca07a-9d82-4836-d055-97112987ad3c",
        "id": "_yMf0ur9XmL7"
      },
      "execution_count": 40,
      "outputs": [
        {
          "output_type": "display_data",
          "data": {
            "text/plain": [
              "<Figure size 432x288 with 1 Axes>"
            ],
            "image/png": "[encoded data removed]"
          },
          "metadata": {
            "needs_background": "light"
          }
        }
      ],
      "id": "_yMf0ur9XmL7"
    },
    {
      "cell_type": "code",
      "source": [
        "# Visualization of accuracy training \n",
        "plt.plot(history_gru_s.history[\"binary_accuracy\"], color=\"b\")\n",
        "plt.plot(history_gru_s.history[\"val_binary_accuracy\"], color=\"r\")\n",
        "plt.ylabel(\"Accuracy\")\n",
        "plt.xlabel(\"Epochs\")\n",
        "plt.show()"
      ],
      "metadata": {
        "colab": {
          "base_uri": "https://localhost:8080/",
          "height": 279
        },
        "outputId": "1c20bdb1-de25-4afd-bec5-645516edd8c8",
        "id": "ygVFCxF6XmL7"
      },
      "execution_count": 41,
      "outputs": [
        {
          "output_type": "display_data",
          "data": {
            "text/plain": [
              "<Figure size 432x288 with 1 Axes>"
            ],
            "image/png": "[encoded data removed]"
          },
          "metadata": {
            "needs_background": "light"
          }
        }
      ],
      "id": "ygVFCxF6XmL7"
    },
    {
      "cell_type": "markdown",
      "source": [
        "## LSTM simplified"
      ],
      "metadata": {
        "id": "pagLB_cOrjdQ"
      },
      "id": "pagLB_cOrjdQ"
    },
    {
      "cell_type": "markdown",
      "source": [
        "**Let's try to fight overfitting by simplifying the models**"
      ],
      "metadata": {
        "id": "kfmWEYbKrjdR"
      },
      "id": "kfmWEYbKrjdR"
    },
    {
      "cell_type": "markdown",
      "source": [
        "### Model"
      ],
      "metadata": {
        "id": "Zyi2BD4krjdS"
      },
      "id": "Zyi2BD4krjdS"
    },
    {
      "cell_type": "code",
      "source": [
        "lstm_s_model = Sequential([\n",
        "  Embedding(vocab_size, embedding_dim, name=\"embedding\"), # the embedding layer\n",
        "  # the input dim needs to be equal to the size of the vocabulary + 1 (because of\n",
        "  # the zero padding)\n",
        "  LSTM(units=32, return_sequences=False), # returns the last output\n",
        "  Dense(16, activation='relu'), # a dense layer\n",
        "  Dense(1, activation=\"sigmoid\") # the prediction layer\n",
        "])\n",
        "\n",
        "lstm_s_model.summary()"
      ],
      "metadata": {
        "colab": {
          "base_uri": "https://localhost:8080/"
        },
        "outputId": "2e1fbabc-9932-40a0-ef95-aa6ead1454e4",
        "id": "iUGHAfv4rjdS"
      },
      "execution_count": 42,
      "outputs": [
        {
          "output_type": "stream",
          "name": "stdout",
          "text": [
            "Model: \"sequential_5\"\n",
            "_________________________________________________________________\n",
            " Layer (type)                Output Shape              Param #   \n",
            "=================================================================\n",
            " embedding (Embedding)       (None, None, 8)           28000     \n",
            "                                                                 \n",
            " lstm_2 (LSTM)               (None, 32)                5248      \n",
            "                                                                 \n",
            " dense_10 (Dense)            (None, 16)                528       \n",
            "                                                                 \n",
            " dense_11 (Dense)            (None, 1)                 17        \n",
            "                                                                 \n",
            "=================================================================\n",
            "Total params: 33,793\n",
            "Trainable params: 33,793\n",
            "Non-trainable params: 0\n",
            "_________________________________________________________________\n"
          ]
        }
      ],
      "id": "iUGHAfv4rjdS"
    },
    {
      "cell_type": "markdown",
      "source": [
        "### Compile"
      ],
      "metadata": {
        "id": "pzYGYD7IrjdT"
      },
      "id": "pzYGYD7IrjdT"
    },
    {
      "cell_type": "code",
      "source": [
        "lstm_s_model.compile(optimizer=optimizer,\n",
        "              loss=BinaryCrossentropy(),\n",
        "              metrics=[BinaryAccuracy()])"
      ],
      "metadata": {
        "id": "7CNiBRvbrjdT"
      },
      "execution_count": 43,
      "outputs": [],
      "id": "7CNiBRvbrjdT"
    },
    {
      "cell_type": "markdown",
      "source": [
        "### Fit on 10 epochs"
      ],
      "metadata": {
        "id": "YQy2cMgqrjdU"
      },
      "id": "YQy2cMgqrjdU"
    },
    {
      "cell_type": "code",
      "source": [
        "history_lstm_s = lstm_s_model.fit(\n",
        "    train_batch,\n",
        "    validation_data=val_batch,\n",
        "    epochs=10,\n",
        "    callbacks=[tensorboard_callback])"
      ],
      "metadata": {
        "colab": {
          "base_uri": "https://localhost:8080/"
        },
        "outputId": "b281b47c-aa20-4aa6-c1c8-520a96d37154",
        "id": "czdOaFAxrjdU"
      },
      "execution_count": 44,
      "outputs": [
        {
          "output_type": "stream",
          "name": "stdout",
          "text": [
            "Epoch 1/10\n",
            "11/11 [==============================] - 2s 74ms/step - loss: 0.6885 - binary_accuracy: 0.5573 - val_loss: 0.6783 - val_binary_accuracy: 0.5771\n",
            "Epoch 2/10\n",
            "11/11 [==============================] - 0s 30ms/step - loss: 0.6760 - binary_accuracy: 0.5675 - val_loss: 0.6484 - val_binary_accuracy: 0.5771\n",
            "Epoch 3/10\n",
            "11/11 [==============================] - 0s 30ms/step - loss: 0.5684 - binary_accuracy: 0.7014 - val_loss: 0.5471 - val_binary_accuracy: 0.7395\n",
            "Epoch 4/10\n",
            "11/11 [==============================] - 0s 31ms/step - loss: 0.4393 - binary_accuracy: 0.8259 - val_loss: 0.4931 - val_binary_accuracy: 0.7785\n",
            "Epoch 5/10\n",
            "11/11 [==============================] - 0s 33ms/step - loss: 0.3483 - binary_accuracy: 0.8668 - val_loss: 0.4869 - val_binary_accuracy: 0.7833\n",
            "Epoch 6/10\n",
            "11/11 [==============================] - 0s 30ms/step - loss: 0.2950 - binary_accuracy: 0.8934 - val_loss: 0.5282 - val_binary_accuracy: 0.7881\n",
            "Epoch 7/10\n",
            "11/11 [==============================] - 0s 31ms/step - loss: 0.2570 - binary_accuracy: 0.9129 - val_loss: 0.5278 - val_binary_accuracy: 0.7846\n",
            "Epoch 8/10\n",
            "11/11 [==============================] - 0s 31ms/step - loss: 0.2324 - binary_accuracy: 0.9221 - val_loss: 0.5560 - val_binary_accuracy: 0.7789\n",
            "Epoch 9/10\n",
            "11/11 [==============================] - 0s 27ms/step - loss: 0.2093 - binary_accuracy: 0.9343 - val_loss: 0.6542 - val_binary_accuracy: 0.7802\n",
            "Epoch 10/10\n",
            "11/11 [==============================] - 0s 32ms/step - loss: 0.1900 - binary_accuracy: 0.9384 - val_loss: 0.6425 - val_binary_accuracy: 0.7763\n"
          ]
        }
      ],
      "id": "czdOaFAxrjdU"
    },
    {
      "cell_type": "markdown",
      "source": [
        "### Performance visualization"
      ],
      "metadata": {
        "id": "bhR9h34nrjdV"
      },
      "id": "bhR9h34nrjdV"
    },
    {
      "cell_type": "code",
      "source": [
        "# Visualization of the training process on the loss function \n",
        "plt.plot(history_lstm_s.history[\"loss\"], color=\"b\")\n",
        "plt.plot(history_lstm_s.history[\"val_loss\"], color=\"r\")\n",
        "plt.ylabel(\"loss\")\n",
        "plt.xlabel(\"Epochs\")\n",
        "plt.show()"
      ],
      "metadata": {
        "colab": {
          "base_uri": "https://localhost:8080/",
          "height": 279
        },
        "outputId": "2f067953-ff7b-4420-c0ae-4ce88aff59a7",
        "id": "5SIcYqkwrjdV"
      },
      "execution_count": 45,
      "outputs": [
        {
          "output_type": "display_data",
          "data": {
            "text/plain": [
              "<Figure size 432x288 with 1 Axes>"
            ],
            "image/png": "[encoded data removed]"
          },
          "metadata": {
            "needs_background": "light"
          }
        }
      ],
      "id": "5SIcYqkwrjdV"
    },
    {
      "cell_type": "code",
      "source": [
        "# Visualization of accuracy training \n",
        "plt.plot(history_lstm_s.history[\"binary_accuracy\"], color=\"b\")\n",
        "plt.plot(history_lstm_s.history[\"val_binary_accuracy\"], color=\"r\")\n",
        "plt.ylabel(\"Accuracy\")\n",
        "plt.xlabel(\"Epochs\")\n",
        "plt.show()"
      ],
      "metadata": {
        "colab": {
          "base_uri": "https://localhost:8080/",
          "height": 279
        },
        "outputId": "dcf331d2-6134-4fe8-a061-f401c1080427",
        "id": "LVwm_lr-rjdV"
      },
      "execution_count": 46,
      "outputs": [
        {
          "output_type": "display_data",
          "data": {
            "text/plain": [
              "<Figure size 432x288 with 1 Axes>"
            ],
            "image/png": "[encoded data removed]"
          },
          "metadata": {
            "needs_background": "light"
          }
        }
      ],
      "id": "LVwm_lr-rjdV"
    },
    {
      "cell_type": "markdown",
      "source": [
        "## Conclusion\n",
        "\n",
        "* Our best models (simple ebmbedding,GRU with lower learning rate, and GRU simplified) have equivalent performances\n",
        "\n",
        "* around 30% loss and 85% accuracy on train\n",
        "\n",
        "* around 45% loss and 80% accuracy on validation\n",
        "\n",
        "* It's best to use the simple embedding model"
      ],
      "metadata": {
        "id": "warZy2GX8TiJ"
      },
      "id": "warZy2GX8TiJ"
    },
    {
      "cell_type": "code",
      "source": [],
      "metadata": {
        "id": "I8A-sGCl9e6n"
      },
      "id": "I8A-sGCl9e6n",
      "execution_count": null,
      "outputs": []
    }
  ],
  "metadata": {
    "kernelspec": {
      "display_name": "Python 3 (ipykernel)",
      "language": "python",
      "name": "python3"
    },
    "language_info": {
      "codemirror_mode": {
        "name": "ipython",
        "version": 3
      },
      "file_extension": ".py",
      "mimetype": "text/x-python",
      "name": "python",
      "nbconvert_exporter": "python",
      "pygments_lexer": "ipython3",
      "version": "3.9.12"
    },
    "colab": {
      "provenance": [],
      "collapsed_sections": []
    }
  },
  "nbformat": 4,
  "nbformat_minor": 5
}